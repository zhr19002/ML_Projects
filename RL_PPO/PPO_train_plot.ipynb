{
 "cells": [
  {
   "cell_type": "code",
   "execution_count": null,
   "id": "cc1b2321",
   "metadata": {},
   "outputs": [],
   "source": [
    "import numpy as np\n",
    "import matplotlib.pyplot as plt\n",
    "\n",
    "data = np.load('./logs/evaluations.npz')\n",
    "\n",
    "plt.figure(figsize=(10, 4))\n",
    "plt.plot(data['timesteps'], np.mean(data['results'], axis=1))\n",
    "\n",
    "plt.xlabel('Timestep')\n",
    "plt.ylabel('Reward')\n",
    "\n",
    "plt.tight_layout()\n",
    "plt.show()"
   ]
  }
 ],
 "metadata": {
  "kernelspec": {
   "display_name": "pytorch-sb3",
   "language": "python",
   "name": "python3"
  },
  "language_info": {
   "codemirror_mode": {
    "name": "ipython",
    "version": 3
   },
   "file_extension": ".py",
   "mimetype": "text/x-python",
   "name": "python",
   "nbconvert_exporter": "python",
   "pygments_lexer": "ipython3",
   "version": "3.12.7"
  }
 },
 "nbformat": 4,
 "nbformat_minor": 5
}
