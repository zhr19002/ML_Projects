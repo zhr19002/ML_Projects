{
 "cells": [
  {
   "cell_type": "code",
   "execution_count": null,
   "id": "5c744867",
   "metadata": {},
   "outputs": [],
   "source": [
    "import gymnasium as gym\n",
    "import ale_py\n",
    "import imageio\n",
    "from IPython.display import Video, display\n",
    "from stable_baselines3.common.vec_env import DummyVecEnv, VecTransposeImage, VecFrameStack\n",
    "from stable_baselines3 import PPO\n",
    "\n",
    "gym.register_envs(ale_py)\n",
    "env = gym.make(\"ALE/DemonAttack-v5\", render_mode=\"rgb_array\")\n",
    "env = gym.wrappers.ResizeObservation(env, (84, 84))\n",
    "env = gym.wrappers.GrayscaleObservation(env, keep_dim=True)\n",
    "env = DummyVecEnv([lambda: env])\n",
    "env = VecTransposeImage(env)\n",
    "env = VecFrameStack(env, n_stack=4)\n",
    "obs = env.reset()"
   ]
  },
  {
   "cell_type": "code",
   "execution_count": null,
   "id": "2a019233",
   "metadata": {},
   "outputs": [],
   "source": [
    "model = PPO.load(\"./logs/best_model.zip\")\n",
    "frames = []\n",
    "\n",
    "while True:\n",
    "    frames.append(env.render())\n",
    "    action, _ = model.predict(obs)\n",
    "    obs, reward, done, info = env.step(action)\n",
    "    if done:\n",
    "        break\n",
    "\n",
    "env.close()\n",
    "\n",
    "video_path = \"demon_attack_1.mp4\"\n",
    "imageio.mimsave(video_path, frames, fps=30)\n",
    "display(Video(video_path))"
   ]
  }
 ],
 "metadata": {
  "kernelspec": {
   "display_name": "pytorch-sb3",
   "language": "python",
   "name": "python3"
  },
  "language_info": {
   "codemirror_mode": {
    "name": "ipython",
    "version": 3
   },
   "file_extension": ".py",
   "mimetype": "text/x-python",
   "name": "python",
   "nbconvert_exporter": "python",
   "pygments_lexer": "ipython3",
   "version": "3.12.7"
  }
 },
 "nbformat": 4,
 "nbformat_minor": 5
}
