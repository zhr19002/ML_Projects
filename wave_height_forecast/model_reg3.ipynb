{
 "cells": [
  {
   "cell_type": "markdown",
   "id": "1e863303-6f52-4f07-a16e-ffb2885f6788",
   "metadata": {},
   "source": [
    "### Import Packages"
   ]
  },
  {
   "cell_type": "code",
   "execution_count": 2,
   "id": "7f589ee6-df13-43d9-a409-99df17e19d87",
   "metadata": {},
   "outputs": [
    {
     "name": "stdout",
     "output_type": "stream",
     "text": [
      "TensorFlow version:  2.19.0\n",
      "Number of GPUs available:  1\n"
     ]
    }
   ],
   "source": [
    "import numpy as np\n",
    "import pandas as pd\n",
    "import matplotlib.pyplot as plt\n",
    "import seaborn as sns\n",
    "\n",
    "from sklearn.preprocessing import MinMaxScaler\n",
    "from sklearn.metrics import mean_squared_error\n",
    "from scipy import stats\n",
    "\n",
    "import tensorflow as tf\n",
    "from keras import Sequential, regularizers\n",
    "from keras.layers import Input, LSTM, Dense\n",
    "from keras.optimizers import Adam\n",
    "from keras.callbacks import EarlyStopping\n",
    "from keras.models import load_model\n",
    "from keras_tuner import HyperModel, Hyperband\n",
    "\n",
    "print(\"TensorFlow version: \", tf.__version__)\n",
    "print(\"Number of GPUs available: \", len(tf.config.list_physical_devices('GPU')))"
   ]
  },
  {
   "cell_type": "code",
   "execution_count": 3,
   "id": "dcab63bc-05ac-4a91-a96d-b14ad046c943",
   "metadata": {},
   "outputs": [
    {
     "name": "stdout",
     "output_type": "stream",
     "text": [
      "Wed Apr  9 18:56:59 2025       \n",
      "+-----------------------------------------------------------------------------------------+\n",
      "| NVIDIA-SMI 570.86.15              Driver Version: 570.86.15      CUDA Version: 12.8     |\n",
      "|-----------------------------------------+------------------------+----------------------+\n",
      "| GPU  Name                 Persistence-M | Bus-Id          Disp.A | Volatile Uncorr. ECC |\n",
      "| Fan  Temp   Perf          Pwr:Usage/Cap |           Memory-Usage | GPU-Util  Compute M. |\n",
      "|                                         |                        |               MIG M. |\n",
      "|=========================================+========================+======================|\n",
      "|   0  NVIDIA L40                     Off |   00000000:17:00.0 Off |                    0 |\n",
      "| N/A   39C    P0             82W /  300W |     581MiB /  46068MiB |      3%      Default |\n",
      "|                                         |                        |                  N/A |\n",
      "+-----------------------------------------+------------------------+----------------------+\n",
      "|   1  NVIDIA L40                     Off |   00000000:65:00.0 Off |                    0 |\n",
      "| N/A   39C    P0             84W /  300W |     567MiB /  46068MiB |      0%      Default |\n",
      "|                                         |                        |                  N/A |\n",
      "+-----------------------------------------+------------------------+----------------------+\n",
      "|   2  NVIDIA L40                     Off |   00000000:CA:00.0 Off |                    0 |\n",
      "| N/A   27C    P8             35W /  300W |       1MiB /  46068MiB |      0%      Default |\n",
      "|                                         |                        |                  N/A |\n",
      "+-----------------------------------------+------------------------+----------------------+\n",
      "|   3  NVIDIA L40                     Off |   00000000:E3:00.0 Off |                    0 |\n",
      "| N/A   34C    P8             35W /  300W |       4MiB /  46068MiB |      0%      Default |\n",
      "|                                         |                        |                  N/A |\n",
      "+-----------------------------------------+------------------------+----------------------+\n",
      "                                                                                         \n",
      "+-----------------------------------------------------------------------------------------+\n",
      "| Processes:                                                                              |\n",
      "|  GPU   GI   CI              PID   Type   Process name                        GPU Memory |\n",
      "|        ID   ID                                                               Usage      |\n",
      "|=========================================================================================|\n",
      "|    0   N/A  N/A         3258050      C   python                                  572MiB |\n",
      "|    1   N/A  N/A         3258047      C   python                                  558MiB |\n",
      "+-----------------------------------------------------------------------------------------+\n"
     ]
    }
   ],
   "source": [
    "!nvidia-smi\n",
    "# !kill -9 <PID>"
   ]
  },
  {
   "cell_type": "markdown",
   "id": "476ba84b-a1d4-4fe5-b2a4-7ef51c0f2ef5",
   "metadata": {},
   "source": [
    "### Data Preprocessing"
   ]
  },
  {
   "cell_type": "code",
   "execution_count": 4,
   "id": "958ae482-f7e5-411b-ab27-37e3f08d8346",
   "metadata": {},
   "outputs": [],
   "source": [
    "spike = 4\n",
    "wind_cols = ['uSq','Z2','Z4']\n",
    "scaled_wind_cols = ['scaled_' + col for col in wind_cols]\n",
    "\n",
    "# Load datasets\n",
    "df1 = pd.read_csv('Data_2004_2013.csv')\n",
    "\n",
    "# Set the timestamp column as the index\n",
    "df1['TimeStamp_1'] = pd.to_datetime(df1['TimeStamp_1'], format='mixed')\n",
    "df1.set_index('TimeStamp_1', inplace=True)\n",
    "\n",
    "# Train-Test split\n",
    "# df_train: [2004-11-01 00:00:00 ~ 2007-10-31 23:00:00, 2008-11-01 00:00:00 ~ 2013-10-31 23:00:00]\n",
    "# df_test: [2007-11-01 00:00:00 ~ 2008-10-31 23:00:00]\n",
    "split1 = pd.to_datetime('2007-10-31 23:59:00')\n",
    "split2 = pd.to_datetime('2008-10-31 23:59:00')\n",
    "df_train = df1[(df1.index < split1) | (df1.index > split2)]\n",
    "df_test = df1[(df1.index > split1) & (df1.index < split2)]\n",
    "\n",
    "# Data normalization\n",
    "scaled_wave = MinMaxScaler()\n",
    "scaled_wave = scaled_wave.fit(df_train[['H']])\n",
    "mask = scaled_wave.transform(pd.DataFrame({'H': [spike]}))[0, 0]"
   ]
  },
  {
   "cell_type": "markdown",
   "id": "d7d7cf60-2a95-4467-9976-c65858e86d0e",
   "metadata": {},
   "source": [
    "### Data Preparation: Train-Test-Validation Split"
   ]
  },
  {
   "cell_type": "code",
   "execution_count": 5,
   "id": "ab7ce1c0-20ee-40b8-ba44-fdb6f6550d93",
   "metadata": {},
   "outputs": [
    {
     "name": "stdout",
     "output_type": "stream",
     "text": [
      "(59180, 7, 3)\n",
      "(8472, 7, 3)\n",
      "(8445, 7, 3)\n"
     ]
    }
   ],
   "source": [
    "time_step = 6\n",
    "features = ['scaled_H'] + scaled_wind_cols\n",
    "\n",
    "def create_sequences(data, time_step):\n",
    "    X, y = [], []\n",
    "    for i in range(len(data)-time_step):\n",
    "        X.append(data[i:(i+time_step+1), 1:]) # (Past + Current) hours wind features\n",
    "        y.append(data[i+time_step, 0])        # Current hour wave height\n",
    "    return np.array(X), np.array(y)\n",
    "\n",
    "# Training set: [2004-11-01 00:00:00 ~ 2007-10-31 23:00:00, 2009-11-01 00:00:00 ~ 2013-10-31 23:00:00]\n",
    "# Validation set: [2008-11-01 00:00:00 ~ 2009-10-31 23:00:00]\n",
    "split3 = pd.to_datetime('2009-10-31 23:59:00')\n",
    "df_train1 = df_train[df_train.index < split1]\n",
    "df_train2 = df_train[df_train.index > split3]\n",
    "df_val = df_train[(df_train.index > split2) & (df_train.index < split3)]\n",
    "\n",
    "X_train1, y_train1 = create_sequences(df_train1[features].values, time_step)\n",
    "X_train2, y_train2 = create_sequences(df_train2[features].values, time_step)\n",
    "X_train, y_train = np.concatenate((X_train1, X_train2), axis=0), np.concatenate((y_train1, y_train2), axis=0)\n",
    "X_val, y_val = create_sequences(df_val[features].values, time_step)\n",
    "X_test, y_test = create_sequences(df_test[features].values, time_step)\n",
    "\n",
    "X_train, y_train = X_train[y_train <= mask], y_train[y_train <= mask]\n",
    "X_val, y_val = X_val[y_val <= mask], y_val[y_val <= mask]\n",
    "X_test, y_test = X_test[y_test <= mask], y_test[y_test <= mask]\n",
    "\n",
    "print(X_train.shape)\n",
    "print(X_val.shape)\n",
    "print(X_test.shape)"
   ]
  },
  {
   "cell_type": "markdown",
   "id": "4d0e4805-faff-4c80-8fa6-4638e11e0b6e",
   "metadata": {},
   "source": [
    "### Model Selection and Implementation"
   ]
  },
  {
   "cell_type": "code",
   "execution_count": null,
   "id": "3ca1a1c2",
   "metadata": {},
   "outputs": [],
   "source": [
    "epochs = 50\n",
    "batch_size = 64\n",
    "model_file = 'model_reg3.keras'\n",
    "\n",
    "# Model architecture\n",
    "def create_model(X_train):\n",
    "    model = Sequential([\n",
    "        # Input layer with shape: (samples, time_steps, features)\n",
    "        Input(shape=(X_train.shape[1], X_train.shape[2])),\n",
    "        \n",
    "        # LSTM layers\n",
    "        LSTM(64, activation='tanh', kernel_regularizer=regularizers.l2(0.01), dropout=0.2, return_sequences=False),\n",
    "        \n",
    "        # Output layer\n",
    "        Dense(1),\n",
    "    ])\n",
    "    \n",
    "    # Compile the model\n",
    "    model.compile(optimizer=Adam(learning_rate=0.001), loss='mse', metrics=['mse'])\n",
    "    \n",
    "    return model\n",
    "\n",
    "# Train and save the model (architecture + weights)\n",
    "model = create_model(X_train)\n",
    "es = EarlyStopping(monitor='val_loss', patience=10, restore_best_weights=True)\n",
    "history = model.fit(X_train, y_train, epochs=epochs, batch_size=batch_size, validation_data=(X_val, y_val), callbacks=[es])\n",
    "model.save(model_file)\n",
    "\n",
    "# Plot the training & validation loss over epochs\n",
    "plt.figure(figsize=(6, 4))\n",
    "plt.plot(history.history['loss'], label='Training Loss')\n",
    "plt.plot(history.history['val_loss'], label='Validation Loss')\n",
    "plt.xlabel('Epochs')\n",
    "plt.ylabel('Loss')\n",
    "plt.legend()\n",
    "\n",
    "plt.tight_layout()\n",
    "plt.show()"
   ]
  },
  {
   "cell_type": "markdown",
   "id": "b5f8fd29-8ffc-49a5-9b94-04da3c4df9c5",
   "metadata": {},
   "source": [
    "### Hyperparameters Tuning\n",
    "\n",
    "- **Time steps**: 6, 12\n",
    "- **Batch size**: 32, 64\n",
    "- **# of LSTM layers**: 1, 2\n",
    "- **# of LSTM units**: 32, 64, 128\n",
    "- **Dropout rate**: 0.2\n",
    "- **Activation**: 'tanh' (might work better for LSTM layers)\n",
    "- **Learning rate**: logarithmic sampling of $10^{-4}$ ~ $10^{-2}$"
   ]
  },
  {
   "cell_type": "code",
   "execution_count": 6,
   "id": "02b63a32-827b-4f23-aeef-c9185a5bf62d",
   "metadata": {},
   "outputs": [
    {
     "name": "stdout",
     "output_type": "stream",
     "text": [
      "Reloading Tuner from hp_tuning/model_reg3/tuner0.json\n"
     ]
    }
   ],
   "source": [
    "epochs = 50\n",
    "batch_size = 64\n",
    "\n",
    "class LSTMHyperModel(HyperModel):\n",
    "    def build(self, hp):\n",
    "        model = Sequential()\n",
    "        \n",
    "        # Input layer with shape: (samples, time_steps, features)\n",
    "        model.add(Input(shape=(X_train.shape[1], X_train.shape[2])))\n",
    "        \n",
    "        # Tunable LSTM layers and units\n",
    "        num_layers = hp.Int('layers', min_value=1, max_value=2, step=1)\n",
    "        for i in range(num_layers):\n",
    "            model.add(LSTM(\n",
    "                hp.Choice(f'units_{i}', values=[32, 64, 128]),\n",
    "                activation = hp.Choice(f'activation_{i}', values=['tanh']),\n",
    "                kernel_regularizer = regularizers.l2(0.01),\n",
    "                dropout = hp.Choice(f'dropout_{i}', values=[0.2]),\n",
    "                return_sequences = True if i < num_layers-1 else False))\n",
    "        \n",
    "        # Output layer\n",
    "        model.add(Dense(1))\n",
    "        \n",
    "        # Compile the model\n",
    "        model.compile(\n",
    "            optimizer = Adam(learning_rate=hp.Float('learning_rate', min_value=1e-4, max_value=1e-2, sampling='log')),\n",
    "            loss = 'mse',\n",
    "            metrics = ['mse'],\n",
    "        )\n",
    "        \n",
    "        return model\n",
    "\n",
    "# Search space setup\n",
    "tuner = Hyperband(\n",
    "    LSTMHyperModel(),\n",
    "    objective = 'val_loss',\n",
    "    max_epochs = 30,\n",
    "    factor = 3,\n",
    "    directory = 'hp_tuning',\n",
    "    project_name = 'model_reg3',\n",
    ")\n",
    "\n",
    "# Hyperparameter tuning\n",
    "es = EarlyStopping(monitor='val_loss', patience=10, restore_best_weights=True)\n",
    "tuner.search(X_train, y_train, epochs=epochs, batch_size=batch_size, validation_data=(X_val, y_val), callbacks=[es])"
   ]
  },
  {
   "cell_type": "code",
   "execution_count": 7,
   "id": "b94c2499-2a02-46a2-8b18-fdb7f28df145",
   "metadata": {},
   "outputs": [
    {
     "name": "stdout",
     "output_type": "stream",
     "text": [
      "{'layers': 1, 'units_0': 64, 'activation_0': 'tanh', 'dropout_0': 0.2, 'learning_rate': 0.0031350766336775784, 'units_1': 128, 'activation_1': 'tanh', 'dropout_1': 0.2, 'tuner/epochs': 30, 'tuner/initial_epoch': 10, 'tuner/bracket': 1, 'tuner/round': 1, 'tuner/trial_id': '0081'}\n",
      "\n"
     ]
    },
    {
     "name": "stderr",
     "output_type": "stream",
     "text": [
      "I0000 00:00:1744239436.782236 3281908 gpu_device.cc:2019] Created device /job:localhost/replica:0/task:0/device:GPU:0 with 43500 MB memory:  -> device: 0, name: NVIDIA L40, pci bus id: 0000:e3:00.0, compute capability: 8.9\n"
     ]
    },
    {
     "data": {
      "text/html": [
       "<pre style=\"white-space:pre;overflow-x:auto;line-height:normal;font-family:Menlo,'DejaVu Sans Mono',consolas,'Courier New',monospace\"><span style=\"font-weight: bold\">Model: \"sequential\"</span>\n",
       "</pre>\n"
      ],
      "text/plain": [
       "\u001b[1mModel: \"sequential\"\u001b[0m\n"
      ]
     },
     "metadata": {},
     "output_type": "display_data"
    },
    {
     "data": {
      "text/html": [
       "<pre style=\"white-space:pre;overflow-x:auto;line-height:normal;font-family:Menlo,'DejaVu Sans Mono',consolas,'Courier New',monospace\">┏━━━━━━━━━━━━━━━━━━━━━━━━━━━━━━━━━┳━━━━━━━━━━━━━━━━━━━━━━━━┳━━━━━━━━━━━━━━━┓\n",
       "┃<span style=\"font-weight: bold\"> Layer (type)                    </span>┃<span style=\"font-weight: bold\"> Output Shape           </span>┃<span style=\"font-weight: bold\">       Param # </span>┃\n",
       "┡━━━━━━━━━━━━━━━━━━━━━━━━━━━━━━━━━╇━━━━━━━━━━━━━━━━━━━━━━━━╇━━━━━━━━━━━━━━━┩\n",
       "│ lstm (<span style=\"color: #0087ff; text-decoration-color: #0087ff\">LSTM</span>)                     │ (<span style=\"color: #00d7ff; text-decoration-color: #00d7ff\">None</span>, <span style=\"color: #00af00; text-decoration-color: #00af00\">64</span>)             │        <span style=\"color: #00af00; text-decoration-color: #00af00\">17,408</span> │\n",
       "├─────────────────────────────────┼────────────────────────┼───────────────┤\n",
       "│ dense (<span style=\"color: #0087ff; text-decoration-color: #0087ff\">Dense</span>)                   │ (<span style=\"color: #00d7ff; text-decoration-color: #00d7ff\">None</span>, <span style=\"color: #00af00; text-decoration-color: #00af00\">1</span>)              │            <span style=\"color: #00af00; text-decoration-color: #00af00\">65</span> │\n",
       "└─────────────────────────────────┴────────────────────────┴───────────────┘\n",
       "</pre>\n"
      ],
      "text/plain": [
       "┏━━━━━━━━━━━━━━━━━━━━━━━━━━━━━━━━━┳━━━━━━━━━━━━━━━━━━━━━━━━┳━━━━━━━━━━━━━━━┓\n",
       "┃\u001b[1m \u001b[0m\u001b[1mLayer (type)                   \u001b[0m\u001b[1m \u001b[0m┃\u001b[1m \u001b[0m\u001b[1mOutput Shape          \u001b[0m\u001b[1m \u001b[0m┃\u001b[1m \u001b[0m\u001b[1m      Param #\u001b[0m\u001b[1m \u001b[0m┃\n",
       "┡━━━━━━━━━━━━━━━━━━━━━━━━━━━━━━━━━╇━━━━━━━━━━━━━━━━━━━━━━━━╇━━━━━━━━━━━━━━━┩\n",
       "│ lstm (\u001b[38;5;33mLSTM\u001b[0m)                     │ (\u001b[38;5;45mNone\u001b[0m, \u001b[38;5;34m64\u001b[0m)             │        \u001b[38;5;34m17,408\u001b[0m │\n",
       "├─────────────────────────────────┼────────────────────────┼───────────────┤\n",
       "│ dense (\u001b[38;5;33mDense\u001b[0m)                   │ (\u001b[38;5;45mNone\u001b[0m, \u001b[38;5;34m1\u001b[0m)              │            \u001b[38;5;34m65\u001b[0m │\n",
       "└─────────────────────────────────┴────────────────────────┴───────────────┘\n"
      ]
     },
     "metadata": {},
     "output_type": "display_data"
    },
    {
     "data": {
      "text/html": [
       "<pre style=\"white-space:pre;overflow-x:auto;line-height:normal;font-family:Menlo,'DejaVu Sans Mono',consolas,'Courier New',monospace\"><span style=\"font-weight: bold\"> Total params: </span><span style=\"color: #00af00; text-decoration-color: #00af00\">17,473</span> (68.25 KB)\n",
       "</pre>\n"
      ],
      "text/plain": [
       "\u001b[1m Total params: \u001b[0m\u001b[38;5;34m17,473\u001b[0m (68.25 KB)\n"
      ]
     },
     "metadata": {},
     "output_type": "display_data"
    },
    {
     "data": {
      "text/html": [
       "<pre style=\"white-space:pre;overflow-x:auto;line-height:normal;font-family:Menlo,'DejaVu Sans Mono',consolas,'Courier New',monospace\"><span style=\"font-weight: bold\"> Trainable params: </span><span style=\"color: #00af00; text-decoration-color: #00af00\">17,473</span> (68.25 KB)\n",
       "</pre>\n"
      ],
      "text/plain": [
       "\u001b[1m Trainable params: \u001b[0m\u001b[38;5;34m17,473\u001b[0m (68.25 KB)\n"
      ]
     },
     "metadata": {},
     "output_type": "display_data"
    },
    {
     "data": {
      "text/html": [
       "<pre style=\"white-space:pre;overflow-x:auto;line-height:normal;font-family:Menlo,'DejaVu Sans Mono',consolas,'Courier New',monospace\"><span style=\"font-weight: bold\"> Non-trainable params: </span><span style=\"color: #00af00; text-decoration-color: #00af00\">0</span> (0.00 B)\n",
       "</pre>\n"
      ],
      "text/plain": [
       "\u001b[1m Non-trainable params: \u001b[0m\u001b[38;5;34m0\u001b[0m (0.00 B)\n"
      ]
     },
     "metadata": {},
     "output_type": "display_data"
    },
    {
     "name": "stdout",
     "output_type": "stream",
     "text": [
      "None\n"
     ]
    }
   ],
   "source": [
    "# Best hyperparameters\n",
    "best_hp = tuner.get_best_hyperparameters()[0]\n",
    "print(best_hp.values)\n",
    "print()\n",
    "\n",
    "# Best model\n",
    "best_model = tuner.hypermodel.build(best_hp)\n",
    "best_model.compile(optimizer=Adam(learning_rate=best_hp.values['learning_rate']), loss='mse', metrics=['mse'])\n",
    "print(best_model.summary())"
   ]
  },
  {
   "cell_type": "code",
   "execution_count": 8,
   "id": "2e41c136-6051-45a4-b690-883058c14bc5",
   "metadata": {},
   "outputs": [
    {
     "name": "stderr",
     "output_type": "stream",
     "text": [
      "I0000 00:00:1744239443.124447 3282492 cuda_dnn.cc:529] Loaded cuDNN version 90300\n"
     ]
    },
    {
     "data": {
      "image/png": "[encoded data removed]",
      "text/plain": [
       "<Figure size 600x400 with 1 Axes>"
      ]
     },
     "metadata": {},
     "output_type": "display_data"
    }
   ],
   "source": [
    "model_file = 'best_model_reg3.keras'\n",
    "\n",
    "# Train and save the model (architecture + weights)\n",
    "history = best_model.fit(X_train, y_train, epochs=epochs, batch_size=batch_size, validation_data=(X_val, y_val), callbacks=[es], verbose=0)\n",
    "best_model.save(model_file)\n",
    "\n",
    "# Plot the training & validation loss over epochs\n",
    "plt.figure(figsize=(6, 4))\n",
    "plt.plot(history.history['loss'], label='Training Loss')\n",
    "plt.plot(history.history['val_loss'], label='Validation Loss')\n",
    "plt.xlabel('Epochs')\n",
    "plt.ylabel('Loss')\n",
    "plt.legend()\n",
    "\n",
    "plt.tight_layout()\n",
    "plt.show()"
   ]
  },
  {
   "cell_type": "markdown",
   "id": "18125fb4-9da1-4359-8f40-5dd8ba44a68f",
   "metadata": {},
   "source": [
    "### Model Evaluation"
   ]
  },
  {
   "cell_type": "code",
   "execution_count": 9,
   "id": "89b2d989-745f-4074-9250-6f6ddc24e13a",
   "metadata": {},
   "outputs": [
    {
     "name": "stdout",
     "output_type": "stream",
     "text": [
      "Training RMSE: 0.807\n",
      "Validation RMSE: 0.806\n",
      "Test RMSE: 0.745\n"
     ]
    }
   ],
   "source": [
    "# Load the saved model\n",
    "model = load_model(model_file)\n",
    "\n",
    "# Training error\n",
    "y_pred1 = model.predict(X_train, verbose=0)\n",
    "y_pred1_raw = scaled_wave.inverse_transform(y_pred1)\n",
    "y_true1 = pd.concat([df_train1['H'][time_step:], df_train2['H'][time_step:]], axis=0)\n",
    "y_true1 = y_true1[y_true1 <= spike]\n",
    "print(f'Training RMSE: {np.sqrt(mean_squared_error(y_true1, y_pred1_raw)):.3f}')\n",
    "\n",
    "# Validation error\n",
    "y_pred2 = model.predict(X_val, verbose=0)\n",
    "y_pred2_raw = scaled_wave.inverse_transform(y_pred2)\n",
    "y_true2 = df_val['H'][time_step:]\n",
    "y_true2 = y_true2[y_true2 <= spike]\n",
    "print(f'Validation RMSE: {np.sqrt(mean_squared_error(y_true2, y_pred2_raw)):.3f}')\n",
    "\n",
    "# Test error\n",
    "y_pred3 = model.predict(X_test, verbose=0)\n",
    "y_pred3_raw = scaled_wave.inverse_transform(y_pred3)\n",
    "y_true3 = df_test['H'][time_step:]\n",
    "y_true3 = y_true3[y_true3 <= spike]\n",
    "print(f'Test RMSE: {np.sqrt(mean_squared_error(y_true3, y_pred3_raw)):.3f}')"
   ]
  },
  {
   "cell_type": "code",
   "execution_count": 10,
   "id": "0139fec5",
   "metadata": {},
   "outputs": [
    {
     "data": {
      "image/png": "[encoded data removed]",
      "text/plain": [
       "<Figure size 600x500 with 2 Axes>"
      ]
     },
     "metadata": {},
     "output_type": "display_data"
    }
   ],
   "source": [
    "def pred_vs_obs(y_true, y_pred):\n",
    "    y_pred = y_pred.flatten()\n",
    "    fig, ax = plt.subplots(figsize=(6, 5))\n",
    "    \n",
    "    ax.plot([0, spike], [0, spike], color='grey', label='Baseline')\n",
    "    ax.plot(np.unique(y_true), np.poly1d(np.polyfit(y_true,y_pred,1))(np.unique(y_true)), color='r', label='Fitted Line')\n",
    "    ax.set(xlabel='Observations', ylabel='Predictions')\n",
    "    ax.legend()\n",
    "    ax.grid()\n",
    "    \n",
    "    kernel = stats.gaussian_kde(np.vstack([y_true, y_pred]))(np.vstack([y_true, y_pred]))\n",
    "    sns.scatterplot(x=y_true, y=y_pred, c=kernel, s=6, cmap='viridis', ax=ax)\n",
    "    fig.colorbar(plt.cm.ScalarMappable(cmap='viridis'), ax=ax)\n",
    "    \n",
    "    plt.tight_layout()\n",
    "    plt.show()\n",
    "\n",
    "pred_vs_obs(y_true3, y_pred3_raw)"
   ]
  },
  {
   "cell_type": "markdown",
   "id": "c4e8ce40-6972-492d-9add-17b7c68508f4",
   "metadata": {},
   "source": [
    "### Model Output"
   ]
  },
  {
   "cell_type": "code",
   "execution_count": 11,
   "id": "74d8d00e-4679-4007-aafa-26b5de2121f5",
   "metadata": {},
   "outputs": [
    {
     "data": {
      "text/html": [
       "<div>\n",
       "<style scoped>\n",
       "    .dataframe tbody tr th:only-of-type {\n",
       "        vertical-align: middle;\n",
       "    }\n",
       "\n",
       "    .dataframe tbody tr th {\n",
       "        vertical-align: top;\n",
       "    }\n",
       "\n",
       "    .dataframe thead th {\n",
       "        text-align: right;\n",
       "    }\n",
       "</style>\n",
       "<table border=\"1\" class=\"dataframe\">\n",
       "  <thead>\n",
       "    <tr style=\"text-align: right;\">\n",
       "      <th></th>\n",
       "      <th>Unnamed: 0</th>\n",
       "      <th>H</th>\n",
       "      <th>uSq</th>\n",
       "      <th>Z2</th>\n",
       "      <th>Z4</th>\n",
       "      <th>scaled_H</th>\n",
       "      <th>scaled_uSq</th>\n",
       "      <th>scaled_Z2</th>\n",
       "      <th>scaled_Z4</th>\n",
       "      <th>H_pred0</th>\n",
       "      <th>H_pred1</th>\n",
       "      <th>H_pred2</th>\n",
       "      <th>H_pred3</th>\n",
       "      <th>H_pred4</th>\n",
       "    </tr>\n",
       "    <tr>\n",
       "      <th>TimeStamp_1</th>\n",
       "      <th></th>\n",
       "      <th></th>\n",
       "      <th></th>\n",
       "      <th></th>\n",
       "      <th></th>\n",
       "      <th></th>\n",
       "      <th></th>\n",
       "      <th></th>\n",
       "      <th></th>\n",
       "      <th></th>\n",
       "      <th></th>\n",
       "      <th></th>\n",
       "      <th></th>\n",
       "      <th></th>\n",
       "    </tr>\n",
       "  </thead>\n",
       "  <tbody>\n",
       "    <tr>\n",
       "      <th>2004-11-01 00:00:00</th>\n",
       "      <td>0</td>\n",
       "      <td>3.249133</td>\n",
       "      <td>19.225945</td>\n",
       "      <td>556.247086</td>\n",
       "      <td>465615.964363</td>\n",
       "      <td>0.319463</td>\n",
       "      <td>0.042443</td>\n",
       "      <td>0.101141</td>\n",
       "      <td>0.021635</td>\n",
       "      <td>0.000000</td>\n",
       "      <td>0.000000</td>\n",
       "      <td>0.000000</td>\n",
       "      <td>0.000000</td>\n",
       "      <td>0.000000</td>\n",
       "    </tr>\n",
       "    <tr>\n",
       "      <th>2004-11-01 01:00:00</th>\n",
       "      <td>1</td>\n",
       "      <td>3.249133</td>\n",
       "      <td>47.299731</td>\n",
       "      <td>872.475497</td>\n",
       "      <td>296853.635864</td>\n",
       "      <td>0.319463</td>\n",
       "      <td>0.111609</td>\n",
       "      <td>0.181946</td>\n",
       "      <td>0.012009</td>\n",
       "      <td>0.000000</td>\n",
       "      <td>0.000000</td>\n",
       "      <td>0.000000</td>\n",
       "      <td>0.000000</td>\n",
       "      <td>0.000000</td>\n",
       "    </tr>\n",
       "    <tr>\n",
       "      <th>2004-11-01 02:00:00</th>\n",
       "      <td>2</td>\n",
       "      <td>1.960359</td>\n",
       "      <td>43.096993</td>\n",
       "      <td>832.812792</td>\n",
       "      <td>310991.288972</td>\n",
       "      <td>0.192748</td>\n",
       "      <td>0.101255</td>\n",
       "      <td>0.171811</td>\n",
       "      <td>0.012816</td>\n",
       "      <td>0.000000</td>\n",
       "      <td>0.000000</td>\n",
       "      <td>0.000000</td>\n",
       "      <td>0.000000</td>\n",
       "      <td>0.000000</td>\n",
       "    </tr>\n",
       "    <tr>\n",
       "      <th>2004-11-01 03:00:00</th>\n",
       "      <td>3</td>\n",
       "      <td>2.001249</td>\n",
       "      <td>28.241040</td>\n",
       "      <td>674.161969</td>\n",
       "      <td>384177.000917</td>\n",
       "      <td>0.196768</td>\n",
       "      <td>0.064654</td>\n",
       "      <td>0.131272</td>\n",
       "      <td>0.016990</td>\n",
       "      <td>0.000000</td>\n",
       "      <td>0.000000</td>\n",
       "      <td>0.000000</td>\n",
       "      <td>0.000000</td>\n",
       "      <td>0.000000</td>\n",
       "    </tr>\n",
       "    <tr>\n",
       "      <th>2004-11-01 04:00:00</th>\n",
       "      <td>4</td>\n",
       "      <td>3.254957</td>\n",
       "      <td>35.278017</td>\n",
       "      <td>753.487381</td>\n",
       "      <td>343731.733585</td>\n",
       "      <td>0.320036</td>\n",
       "      <td>0.081991</td>\n",
       "      <td>0.151541</td>\n",
       "      <td>0.014683</td>\n",
       "      <td>0.000000</td>\n",
       "      <td>0.000000</td>\n",
       "      <td>0.000000</td>\n",
       "      <td>0.000000</td>\n",
       "      <td>0.000000</td>\n",
       "    </tr>\n",
       "    <tr>\n",
       "      <th>2004-11-01 05:00:00</th>\n",
       "      <td>5</td>\n",
       "      <td>3.298333</td>\n",
       "      <td>33.337921</td>\n",
       "      <td>732.475598</td>\n",
       "      <td>353592.016416</td>\n",
       "      <td>0.324301</td>\n",
       "      <td>0.077211</td>\n",
       "      <td>0.146172</td>\n",
       "      <td>0.015245</td>\n",
       "      <td>0.000000</td>\n",
       "      <td>0.000000</td>\n",
       "      <td>0.000000</td>\n",
       "      <td>0.000000</td>\n",
       "      <td>0.000000</td>\n",
       "    </tr>\n",
       "    <tr>\n",
       "      <th>2004-11-01 06:00:00</th>\n",
       "      <td>6</td>\n",
       "      <td>0.298153</td>\n",
       "      <td>67.513173</td>\n",
       "      <td>1042.361020</td>\n",
       "      <td>248471.996288</td>\n",
       "      <td>0.029315</td>\n",
       "      <td>0.161410</td>\n",
       "      <td>0.225356</td>\n",
       "      <td>0.009250</td>\n",
       "      <td>0.101553</td>\n",
       "      <td>0.277819</td>\n",
       "      <td>0.478686</td>\n",
       "      <td>0.147623</td>\n",
       "      <td>0.423846</td>\n",
       "    </tr>\n",
       "    <tr>\n",
       "      <th>2004-11-01 07:00:00</th>\n",
       "      <td>7</td>\n",
       "      <td>0.329992</td>\n",
       "      <td>43.711596</td>\n",
       "      <td>838.730115</td>\n",
       "      <td>308797.214744</td>\n",
       "      <td>0.032446</td>\n",
       "      <td>0.102769</td>\n",
       "      <td>0.173323</td>\n",
       "      <td>0.012690</td>\n",
       "      <td>0.103416</td>\n",
       "      <td>0.279069</td>\n",
       "      <td>0.480156</td>\n",
       "      <td>0.155466</td>\n",
       "      <td>0.429626</td>\n",
       "    </tr>\n",
       "    <tr>\n",
       "      <th>2004-11-01 08:00:00</th>\n",
       "      <td>8</td>\n",
       "      <td>0.307853</td>\n",
       "      <td>55.203975</td>\n",
       "      <td>942.560154</td>\n",
       "      <td>274780.895794</td>\n",
       "      <td>0.030269</td>\n",
       "      <td>0.131084</td>\n",
       "      <td>0.199855</td>\n",
       "      <td>0.010750</td>\n",
       "      <td>0.103958</td>\n",
       "      <td>0.279557</td>\n",
       "      <td>0.481290</td>\n",
       "      <td>0.157448</td>\n",
       "      <td>0.430240</td>\n",
       "    </tr>\n",
       "    <tr>\n",
       "      <th>2004-11-01 09:00:00</th>\n",
       "      <td>9</td>\n",
       "      <td>0.287078</td>\n",
       "      <td>46.293309</td>\n",
       "      <td>863.143519</td>\n",
       "      <td>300063.104080</td>\n",
       "      <td>0.028226</td>\n",
       "      <td>0.109130</td>\n",
       "      <td>0.179561</td>\n",
       "      <td>0.012192</td>\n",
       "      <td>0.104624</td>\n",
       "      <td>0.279778</td>\n",
       "      <td>0.481582</td>\n",
       "      <td>0.159911</td>\n",
       "      <td>0.431139</td>\n",
       "    </tr>\n",
       "  </tbody>\n",
       "</table>\n",
       "</div>"
      ],
      "text/plain": [
       "                     Unnamed: 0         H        uSq           Z2  \\\n",
       "TimeStamp_1                                                         \n",
       "2004-11-01 00:00:00           0  3.249133  19.225945   556.247086   \n",
       "2004-11-01 01:00:00           1  3.249133  47.299731   872.475497   \n",
       "2004-11-01 02:00:00           2  1.960359  43.096993   832.812792   \n",
       "2004-11-01 03:00:00           3  2.001249  28.241040   674.161969   \n",
       "2004-11-01 04:00:00           4  3.254957  35.278017   753.487381   \n",
       "2004-11-01 05:00:00           5  3.298333  33.337921   732.475598   \n",
       "2004-11-01 06:00:00           6  0.298153  67.513173  1042.361020   \n",
       "2004-11-01 07:00:00           7  0.329992  43.711596   838.730115   \n",
       "2004-11-01 08:00:00           8  0.307853  55.203975   942.560154   \n",
       "2004-11-01 09:00:00           9  0.287078  46.293309   863.143519   \n",
       "\n",
       "                                Z4  scaled_H  scaled_uSq  scaled_Z2  \\\n",
       "TimeStamp_1                                                           \n",
       "2004-11-01 00:00:00  465615.964363  0.319463    0.042443   0.101141   \n",
       "2004-11-01 01:00:00  296853.635864  0.319463    0.111609   0.181946   \n",
       "2004-11-01 02:00:00  310991.288972  0.192748    0.101255   0.171811   \n",
       "2004-11-01 03:00:00  384177.000917  0.196768    0.064654   0.131272   \n",
       "2004-11-01 04:00:00  343731.733585  0.320036    0.081991   0.151541   \n",
       "2004-11-01 05:00:00  353592.016416  0.324301    0.077211   0.146172   \n",
       "2004-11-01 06:00:00  248471.996288  0.029315    0.161410   0.225356   \n",
       "2004-11-01 07:00:00  308797.214744  0.032446    0.102769   0.173323   \n",
       "2004-11-01 08:00:00  274780.895794  0.030269    0.131084   0.199855   \n",
       "2004-11-01 09:00:00  300063.104080  0.028226    0.109130   0.179561   \n",
       "\n",
       "                     scaled_Z4   H_pred0   H_pred1   H_pred2   H_pred3  \\\n",
       "TimeStamp_1                                                              \n",
       "2004-11-01 00:00:00   0.021635  0.000000  0.000000  0.000000  0.000000   \n",
       "2004-11-01 01:00:00   0.012009  0.000000  0.000000  0.000000  0.000000   \n",
       "2004-11-01 02:00:00   0.012816  0.000000  0.000000  0.000000  0.000000   \n",
       "2004-11-01 03:00:00   0.016990  0.000000  0.000000  0.000000  0.000000   \n",
       "2004-11-01 04:00:00   0.014683  0.000000  0.000000  0.000000  0.000000   \n",
       "2004-11-01 05:00:00   0.015245  0.000000  0.000000  0.000000  0.000000   \n",
       "2004-11-01 06:00:00   0.009250  0.101553  0.277819  0.478686  0.147623   \n",
       "2004-11-01 07:00:00   0.012690  0.103416  0.279069  0.480156  0.155466   \n",
       "2004-11-01 08:00:00   0.010750  0.103958  0.279557  0.481290  0.157448   \n",
       "2004-11-01 09:00:00   0.012192  0.104624  0.279778  0.481582  0.159911   \n",
       "\n",
       "                      H_pred4  \n",
       "TimeStamp_1                    \n",
       "2004-11-01 00:00:00  0.000000  \n",
       "2004-11-01 01:00:00  0.000000  \n",
       "2004-11-01 02:00:00  0.000000  \n",
       "2004-11-01 03:00:00  0.000000  \n",
       "2004-11-01 04:00:00  0.000000  \n",
       "2004-11-01 05:00:00  0.000000  \n",
       "2004-11-01 06:00:00  0.423846  \n",
       "2004-11-01 07:00:00  0.429626  \n",
       "2004-11-01 08:00:00  0.430240  \n",
       "2004-11-01 09:00:00  0.431139  "
      ]
     },
     "execution_count": 11,
     "metadata": {},
     "output_type": "execute_result"
    }
   ],
   "source": [
    "# Create sequences for the full dataset\n",
    "X, _ = create_sequences(df1[features].values, time_step)\n",
    "\n",
    "# Add predicted wave heights\n",
    "df1['H_pred3'] = 0.0\n",
    "df1.loc[df1.index[time_step:], 'H_pred3'] = model.predict(X, verbose=0).flatten()\n",
    "df1.to_csv('Data_2004_2013.csv')\n",
    "\n",
    "df1.head(10)"
   ]
  },
  {
   "cell_type": "code",
   "execution_count": null,
   "id": "2a484466-36ec-4ac2-8bda-fd913069e95f",
   "metadata": {},
   "outputs": [],
   "source": []
  }
 ],
 "metadata": {
  "kernelspec": {
   "display_name": "tf-gpu",
   "language": "python",
   "name": "tf-gpu"
  },
  "language_info": {
   "codemirror_mode": {
    "name": "ipython",
    "version": 3
   },
   "file_extension": ".py",
   "mimetype": "text/x-python",
   "name": "python",
   "nbconvert_exporter": "python",
   "pygments_lexer": "ipython3",
   "version": "3.12.7"
  }
 },
 "nbformat": 4,
 "nbformat_minor": 5
}
