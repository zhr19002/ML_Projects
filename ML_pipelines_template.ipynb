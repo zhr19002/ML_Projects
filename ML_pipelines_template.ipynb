{
 "cells": [
  {
   "cell_type": "markdown",
   "id": "e3c179e4-ce8f-4087-9fda-7eb9fe23e69d",
   "metadata": {},
   "source": [
    "## ML Workflow\n",
    "\n",
    "![workflow](workflow.jpg)"
   ]
  },
  {
   "cell_type": "markdown",
   "id": "54aca383-86fa-4559-a376-5945bd0eeabf",
   "metadata": {},
   "source": [
    "1. Extract, transform, and load (ETL) data\n",
    "2. Data cleaning and aggregation\n",
    "3. Train-Test-Validation split\n",
    "4. Exploratory data analysis (EDA)\n",
    "5. Feature engineering\n",
    "   - Normalization\n",
    "   - Removing autocorrelations\n",
    "   - Discretization\n",
    "   - PCA\n",
    "   - Regularization\n",
    "   - ...\n",
    "6. Model selection and implementation\n",
    "   - Sklearn cheatsheet: choosing the right estimator\n",
    "7. Model evaluation\n",
    "8. Hyperparameter tuning\n",
    "9. Model Validation\n",
    "10. Building ML pipelines"
   ]
  },
  {
   "cell_type": "markdown",
   "id": "08f02588-e2ed-4067-a8c2-a3101268d209",
   "metadata": {},
   "source": [
    "## ML Pipelines"
   ]
  },
  {
   "cell_type": "markdown",
   "id": "2794885e-2033-459a-81c5-76e1ca9d0303",
   "metadata": {},
   "source": [
    "- Intermediate steps of a pipeline must have **.fit()** and **.transform()**\n",
    "    - Intermediate steps include: imputation, feature selection, dimension reduction, normalization, ...\n",
    "- Final step of a pipeline must have **.fit()**"
   ]
  },
  {
   "cell_type": "markdown",
   "id": "5484cc5a-36fb-4c3f-825d-fbcfef0070c2",
   "metadata": {},
   "source": [
    "### Import Packages"
   ]
  },
  {
   "cell_type": "code",
   "execution_count": 1,
   "id": "64ff3cf4-5231-48fe-9c4b-ca0dd52bce8c",
   "metadata": {},
   "outputs": [],
   "source": [
    "import numpy as np\n",
    "import pandas as pd\n",
    "import matplotlib.pyplot as plt\n",
    "import seaborn as sns\n",
    "\n",
    "from sklearn.impute import SimpleImputer\n",
    "from sklearn.pipeline import Pipeline\n",
    "from sklearn.compose import ColumnTransformer\n",
    "from sklearn.preprocessing import OneHotEncoder, MinMaxScaler, StandardScaler\n",
    "\n",
    "from sklearn.model_selection import train_test_split, GridSearchCV\n",
    "from sklearn.ensemble import VotingRegressor\n",
    "from sklearn.linear_model import LinearRegression, Lasso, Ridge\n",
    "from sklearn.metrics import r2_score, mean_squared_error"
   ]
  },
  {
   "cell_type": "markdown",
   "id": "914616d4-aa33-4fc3-b23a-2ba99ec11530",
   "metadata": {},
   "source": [
    "### Load Dataset"
   ]
  },
  {
   "cell_type": "code",
   "execution_count": 3,
   "id": "208f3450-25e9-4305-aa28-126139fd2b4a",
   "metadata": {},
   "outputs": [
    {
     "data": {
      "text/html": [
       "<div>\n",
       "<style scoped>\n",
       "    .dataframe tbody tr th:only-of-type {\n",
       "        vertical-align: middle;\n",
       "    }\n",
       "\n",
       "    .dataframe tbody tr th {\n",
       "        vertical-align: top;\n",
       "    }\n",
       "\n",
       "    .dataframe thead th {\n",
       "        text-align: right;\n",
       "    }\n",
       "</style>\n",
       "<table border=\"1\" class=\"dataframe\">\n",
       "  <thead>\n",
       "    <tr style=\"text-align: right;\">\n",
       "      <th></th>\n",
       "      <th>feature_1</th>\n",
       "      <th>feature_2</th>\n",
       "      <th>feature_3</th>\n",
       "      <th>feature_4</th>\n",
       "      <th>target</th>\n",
       "    </tr>\n",
       "  </thead>\n",
       "  <tbody>\n",
       "    <tr>\n",
       "      <th>0</th>\n",
       "      <td>4.370861</td>\n",
       "      <td>47.0</td>\n",
       "      <td>Yes</td>\n",
       "      <td>A</td>\n",
       "      <td>46.407842</td>\n",
       "    </tr>\n",
       "    <tr>\n",
       "      <th>1</th>\n",
       "      <td>9.556429</td>\n",
       "      <td>12.0</td>\n",
       "      <td>Yes</td>\n",
       "      <td>B</td>\n",
       "      <td>NaN</td>\n",
       "    </tr>\n",
       "    <tr>\n",
       "      <th>2</th>\n",
       "      <td>NaN</td>\n",
       "      <td>62.0</td>\n",
       "      <td>Yes</td>\n",
       "      <td>A</td>\n",
       "      <td>18.701927</td>\n",
       "    </tr>\n",
       "    <tr>\n",
       "      <th>3</th>\n",
       "      <td>6.387926</td>\n",
       "      <td>NaN</td>\n",
       "      <td>Yes</td>\n",
       "      <td>B</td>\n",
       "      <td>-0.618596</td>\n",
       "    </tr>\n",
       "    <tr>\n",
       "      <th>4</th>\n",
       "      <td>2.404168</td>\n",
       "      <td>NaN</td>\n",
       "      <td>No</td>\n",
       "      <td>NaN</td>\n",
       "      <td>NaN</td>\n",
       "    </tr>\n",
       "  </tbody>\n",
       "</table>\n",
       "</div>"
      ],
      "text/plain": [
       "   feature_1  feature_2 feature_3 feature_4     target\n",
       "0   4.370861       47.0       Yes         A  46.407842\n",
       "1   9.556429       12.0       Yes         B        NaN\n",
       "2        NaN       62.0       Yes         A  18.701927\n",
       "3   6.387926        NaN       Yes         B  -0.618596\n",
       "4   2.404168        NaN        No       NaN        NaN"
      ]
     },
     "execution_count": 3,
     "metadata": {},
     "output_type": "execute_result"
    }
   ],
   "source": [
    "np.random.seed(42)\n",
    "\n",
    "num_records = 1000\n",
    "df = pd.DataFrame({\n",
    "    'feature_1' : np.random.uniform(1, 10, num_records),\n",
    "    'feature_2' : np.random.randint(1, 101, num_records),\n",
    "    'feature_3' : np.random.choice(['Yes','No'], num_records),\n",
    "    'feature_4' : np.random.choice(['A','B','C','D'], num_records),\n",
    "    'target' : np.random.uniform(-50, 50, num_records)})\n",
    "\n",
    "for col in df.columns:\n",
    "    nan_indices = np.random.choice(df[col].shape[0], size=int(0.1*num_records), replace=False)\n",
    "    df.loc[nan_indices, col] = np.nan\n",
    "\n",
    "df.head()"
   ]
  },
  {
   "cell_type": "markdown",
   "id": "41ecd49a-a1a3-4722-acb2-cb8f10c919c7",
   "metadata": {},
   "source": [
    "### Imputation Pipeline"
   ]
  },
  {
   "cell_type": "code",
   "execution_count": 5,
   "id": "9cc2e7cb-88f6-4b34-96a2-de4dd83342de",
   "metadata": {},
   "outputs": [
    {
     "data": {
      "text/html": [
       "<div>\n",
       "<style scoped>\n",
       "    .dataframe tbody tr th:only-of-type {\n",
       "        vertical-align: middle;\n",
       "    }\n",
       "\n",
       "    .dataframe tbody tr th {\n",
       "        vertical-align: top;\n",
       "    }\n",
       "\n",
       "    .dataframe thead th {\n",
       "        text-align: right;\n",
       "    }\n",
       "</style>\n",
       "<table border=\"1\" class=\"dataframe\">\n",
       "  <thead>\n",
       "    <tr style=\"text-align: right;\">\n",
       "      <th></th>\n",
       "      <th>feature_1</th>\n",
       "      <th>feature_2</th>\n",
       "      <th>target</th>\n",
       "      <th>feature_3_Yes</th>\n",
       "      <th>feature_4_B</th>\n",
       "      <th>feature_4_C</th>\n",
       "      <th>feature_4_D</th>\n",
       "    </tr>\n",
       "  </thead>\n",
       "  <tbody>\n",
       "    <tr>\n",
       "      <th>0</th>\n",
       "      <td>4.370861</td>\n",
       "      <td>47.000000</td>\n",
       "      <td>46.407842</td>\n",
       "      <td>1.0</td>\n",
       "      <td>0.0</td>\n",
       "      <td>0.0</td>\n",
       "      <td>0.0</td>\n",
       "    </tr>\n",
       "    <tr>\n",
       "      <th>1</th>\n",
       "      <td>9.556429</td>\n",
       "      <td>12.000000</td>\n",
       "      <td>-0.084782</td>\n",
       "      <td>1.0</td>\n",
       "      <td>1.0</td>\n",
       "      <td>0.0</td>\n",
       "      <td>0.0</td>\n",
       "    </tr>\n",
       "    <tr>\n",
       "      <th>2</th>\n",
       "      <td>5.448955</td>\n",
       "      <td>62.000000</td>\n",
       "      <td>18.701927</td>\n",
       "      <td>1.0</td>\n",
       "      <td>0.0</td>\n",
       "      <td>0.0</td>\n",
       "      <td>0.0</td>\n",
       "    </tr>\n",
       "    <tr>\n",
       "      <th>3</th>\n",
       "      <td>6.387926</td>\n",
       "      <td>49.433333</td>\n",
       "      <td>-0.618596</td>\n",
       "      <td>1.0</td>\n",
       "      <td>1.0</td>\n",
       "      <td>0.0</td>\n",
       "      <td>0.0</td>\n",
       "    </tr>\n",
       "    <tr>\n",
       "      <th>4</th>\n",
       "      <td>2.404168</td>\n",
       "      <td>49.433333</td>\n",
       "      <td>-0.084782</td>\n",
       "      <td>0.0</td>\n",
       "      <td>0.0</td>\n",
       "      <td>1.0</td>\n",
       "      <td>0.0</td>\n",
       "    </tr>\n",
       "  </tbody>\n",
       "</table>\n",
       "</div>"
      ],
      "text/plain": [
       "   feature_1  feature_2     target  feature_3_Yes  feature_4_B  feature_4_C  \\\n",
       "0   4.370861  47.000000  46.407842            1.0          0.0          0.0   \n",
       "1   9.556429  12.000000  -0.084782            1.0          1.0          0.0   \n",
       "2   5.448955  62.000000  18.701927            1.0          0.0          0.0   \n",
       "3   6.387926  49.433333  -0.618596            1.0          1.0          0.0   \n",
       "4   2.404168  49.433333  -0.084782            0.0          0.0          1.0   \n",
       "\n",
       "   feature_4_D  \n",
       "0          0.0  \n",
       "1          0.0  \n",
       "2          0.0  \n",
       "3          0.0  \n",
       "4          0.0  "
      ]
     },
     "execution_count": 5,
     "metadata": {},
     "output_type": "execute_result"
    }
   ],
   "source": [
    "# Define the numerical and categorical columns\n",
    "num_cols = ['feature_1', 'feature_2', 'target']\n",
    "cat_cols = ['feature_3', 'feature_4']\n",
    "\n",
    "# Create pipelines for numerical and categorical features\n",
    "num_pipeline = Pipeline([\n",
    "    ('num_imputer', SimpleImputer(strategy='mean')),\n",
    "])\n",
    "cat_pipeline = Pipeline([\n",
    "    ('cat_imputer', SimpleImputer(strategy='most_frequent')),\n",
    "    ('onehot', OneHotEncoder(drop='first', sparse_output=False)),\n",
    "])\n",
    "\n",
    "# Create a column transformer\n",
    "col_T = ColumnTransformer(transformers=[\n",
    "    ('num_pipeline', num_pipeline, num_cols),\n",
    "    ('cat_pipeline', cat_pipeline, cat_cols),\n",
    "])\n",
    "\n",
    "# Convert the result back into a DataFrame\n",
    "df_imputed = col_T.fit_transform(df)\n",
    "cat_names = col_T.transformers_[1][1].named_steps['onehot'].get_feature_names_out(cat_cols)\n",
    "df_imputed = pd.DataFrame(df_imputed, columns = num_cols + list(cat_names))\n",
    "\n",
    "df_imputed.head()"
   ]
  },
  {
   "cell_type": "markdown",
   "id": "7872a5a3-e1bc-428e-9b48-35fc4f444337",
   "metadata": {},
   "source": [
    "### Train-Test Split"
   ]
  },
  {
   "cell_type": "code",
   "execution_count": 7,
   "id": "1be39a2e-4c2f-436b-9797-3e3cebed2fbf",
   "metadata": {},
   "outputs": [
    {
     "name": "stdout",
     "output_type": "stream",
     "text": [
      "(800, 7)\n",
      "(200, 7)\n"
     ]
    }
   ],
   "source": [
    "df_train, df_test = train_test_split(df_imputed, test_size=0.2, random_state=42)\n",
    "\n",
    "print(df_train.shape)\n",
    "print(df_test.shape)"
   ]
  },
  {
   "cell_type": "markdown",
   "id": "8c625ecb-23fc-414d-966d-4244a1f8c95a",
   "metadata": {},
   "source": [
    "### Preprocessing Pipeline"
   ]
  },
  {
   "cell_type": "markdown",
   "id": "011481d1-25d6-452b-bfe0-273c53f4b4f7",
   "metadata": {},
   "source": [
    "- **Min-Max Normalization**\n",
    "    - (value - min)/(max - min)\n",
    "    - Cannot handle outliers well\n",
    "- **Z-Score Standardization**\n",
    "    - (value - $\\mu$)/$\\sigma$\n",
    "    - Cannot produce normalized data with the same scale"
   ]
  },
  {
   "cell_type": "code",
   "execution_count": 9,
   "id": "58c1a507-a3cc-456b-9c44-c92e0e1acaad",
   "metadata": {},
   "outputs": [
    {
     "data": {
      "text/html": [
       "<div>\n",
       "<style scoped>\n",
       "    .dataframe tbody tr th:only-of-type {\n",
       "        vertical-align: middle;\n",
       "    }\n",
       "\n",
       "    .dataframe tbody tr th {\n",
       "        vertical-align: top;\n",
       "    }\n",
       "\n",
       "    .dataframe thead th {\n",
       "        text-align: right;\n",
       "    }\n",
       "</style>\n",
       "<table border=\"1\" class=\"dataframe\">\n",
       "  <thead>\n",
       "    <tr style=\"text-align: right;\">\n",
       "      <th></th>\n",
       "      <th>feature_1</th>\n",
       "      <th>feature_2</th>\n",
       "      <th>target</th>\n",
       "      <th>feature_3_Yes</th>\n",
       "      <th>feature_4_B</th>\n",
       "      <th>feature_4_C</th>\n",
       "      <th>feature_4_D</th>\n",
       "    </tr>\n",
       "  </thead>\n",
       "  <tbody>\n",
       "    <tr>\n",
       "      <th>0</th>\n",
       "      <td>0.042025</td>\n",
       "      <td>0.489226</td>\n",
       "      <td>0.951841</td>\n",
       "      <td>0.0</td>\n",
       "      <td>0.0</td>\n",
       "      <td>0.0</td>\n",
       "      <td>0.0</td>\n",
       "    </tr>\n",
       "    <tr>\n",
       "      <th>1</th>\n",
       "      <td>0.492115</td>\n",
       "      <td>0.171717</td>\n",
       "      <td>-0.237947</td>\n",
       "      <td>0.0</td>\n",
       "      <td>0.0</td>\n",
       "      <td>1.0</td>\n",
       "      <td>0.0</td>\n",
       "    </tr>\n",
       "    <tr>\n",
       "      <th>2</th>\n",
       "      <td>0.608981</td>\n",
       "      <td>0.444444</td>\n",
       "      <td>0.146212</td>\n",
       "      <td>0.0</td>\n",
       "      <td>1.0</td>\n",
       "      <td>0.0</td>\n",
       "      <td>0.0</td>\n",
       "    </tr>\n",
       "    <tr>\n",
       "      <th>3</th>\n",
       "      <td>0.024270</td>\n",
       "      <td>0.303030</td>\n",
       "      <td>-0.730968</td>\n",
       "      <td>0.0</td>\n",
       "      <td>0.0</td>\n",
       "      <td>0.0</td>\n",
       "      <td>0.0</td>\n",
       "    </tr>\n",
       "    <tr>\n",
       "      <th>4</th>\n",
       "      <td>0.914709</td>\n",
       "      <td>0.489226</td>\n",
       "      <td>-0.034902</td>\n",
       "      <td>1.0</td>\n",
       "      <td>1.0</td>\n",
       "      <td>0.0</td>\n",
       "      <td>0.0</td>\n",
       "    </tr>\n",
       "  </tbody>\n",
       "</table>\n",
       "</div>"
      ],
      "text/plain": [
       "   feature_1  feature_2    target  feature_3_Yes  feature_4_B  feature_4_C  \\\n",
       "0   0.042025   0.489226  0.951841            0.0          0.0          0.0   \n",
       "1   0.492115   0.171717 -0.237947            0.0          0.0          1.0   \n",
       "2   0.608981   0.444444  0.146212            0.0          1.0          0.0   \n",
       "3   0.024270   0.303030 -0.730968            0.0          0.0          0.0   \n",
       "4   0.914709   0.489226 -0.034902            1.0          1.0          0.0   \n",
       "\n",
       "   feature_4_D  \n",
       "0          0.0  \n",
       "1          0.0  \n",
       "2          0.0  \n",
       "3          0.0  \n",
       "4          0.0  "
      ]
     },
     "execution_count": 9,
     "metadata": {},
     "output_type": "execute_result"
    }
   ],
   "source": [
    "# Create a column transformer for data normalization\n",
    "preprocessor = ColumnTransformer(transformers=[\n",
    "    ('minmax', MinMaxScaler(), ['feature_1', 'feature_2']),\n",
    "    ('zscore', StandardScaler(), ['target']),\n",
    "], remainder='passthrough')\n",
    "\n",
    "df_train_T = preprocessor.fit_transform(df_train)\n",
    "df_test_T = preprocessor.transform(df_test)\n",
    "\n",
    "# Convert the result back into a DataFrame\n",
    "df_train_T = pd.DataFrame(df_train_T, columns=df_train.columns)\n",
    "df_test_T = pd.DataFrame(df_test_T, columns=df_test.columns)\n",
    "\n",
    "df_train_T.head()"
   ]
  },
  {
   "cell_type": "code",
   "execution_count": 11,
   "id": "2be46b1a-b6e7-494a-a602-51538d4aa433",
   "metadata": {},
   "outputs": [],
   "source": [
    "X_train = df_train_T.drop('target', axis=1)\n",
    "X_test = df_test_T.drop('target', axis=1)\n",
    "y_train = df_train_T['target']\n",
    "y_test = df_test_T['target']"
   ]
  },
  {
   "cell_type": "markdown",
   "id": "fbe56f51-dbc2-486f-93bf-07ba9afdb391",
   "metadata": {},
   "source": [
    "### Model Pipeline"
   ]
  },
  {
   "cell_type": "markdown",
   "id": "91711d94-e30a-4a12-810f-29e28fcfad04",
   "metadata": {},
   "source": [
    "- To call hyperparameters in a model pipeline: **pipeline_step_name + '__' + hyperparameter**\n",
    "\n",
    "- **Regularization**: to prevent overfitting by adding a penalty term to the loss function\n",
    "    - L1-norm (Lasso)\n",
    "        $$\\text{loss} = \\text{loss}_\\alpha + \\lambda \\sum_{i=1}^{n} |\\theta_i|$$\n",
    "    - L2-norm (Ridge)\n",
    "        $$\\text{loss} = \\text{loss}_\\alpha + \\lambda \\sum_{i=1}^{n} \\theta_i^2$$"
   ]
  },
  {
   "cell_type": "code",
   "execution_count": 13,
   "id": "2b4e9a67-84f0-43b2-a4a4-b72056819997",
   "metadata": {},
   "outputs": [
    {
     "name": "stdout",
     "output_type": "stream",
     "text": [
      "Best model: VotingRegressor(estimators=[('lr', LinearRegression()), ('lasso', Lasso()),\n",
      "                            ('ridge', Ridge(alpha=10))])\n",
      "Best hyperparameters: {'voting_regr__ridge__alpha': 10}\n",
      "-0.03674353999220692\n",
      "1.0353195262271795\n"
     ]
    }
   ],
   "source": [
    "voting_regr = VotingRegressor(estimators=[\n",
    "    ('lr', LinearRegression()),\n",
    "    ('lasso', Lasso()),\n",
    "    ('ridge', Ridge()),\n",
    "])\n",
    "\n",
    "# Multiple models pipeline with grid search\n",
    "model_pipeline = Pipeline(steps=[\n",
    "    ('voting_regr', voting_regr),\n",
    "])\n",
    "\n",
    "search_space = [\n",
    "    {'voting_regr__lr__fit_intercept': [True, False]},\n",
    "    {'voting_regr__lasso__alpha': [0.01, 0.1, 1, 10]},\n",
    "    {'voting_regr__ridge__alpha': [0.01, 0.1, 1, 10]},\n",
    "]\n",
    "\n",
    "gs = GridSearchCV(model_pipeline, param_grid=search_space, scoring='neg_mean_squared_error', cv=5)\n",
    "\n",
    "gs.fit(X_train, y_train)\n",
    "y_pred = gs.best_estimator_.predict(X_test)\n",
    "\n",
    "print('Best model:', gs.best_estimator_.named_steps['voting_regr'])\n",
    "print('Best hyperparameters:', gs.best_params_)\n",
    "print(r2_score(y_test, y_pred))\n",
    "print(mean_squared_error(y_test, y_pred))"
   ]
  },
  {
   "cell_type": "code",
   "execution_count": null,
   "id": "ba1a1bfb-f756-4103-b658-dabc9296a371",
   "metadata": {},
   "outputs": [],
   "source": []
  }
 ],
 "metadata": {
  "kernelspec": {
   "display_name": "Python 3 (ipykernel)",
   "language": "python",
   "name": "python3"
  },
  "language_info": {
   "codemirror_mode": {
    "name": "ipython",
    "version": 3
   },
   "file_extension": ".py",
   "mimetype": "text/x-python",
   "name": "python",
   "nbconvert_exporter": "python",
   "pygments_lexer": "ipython3",
   "version": "3.12.7"
  }
 },
 "nbformat": 4,
 "nbformat_minor": 5
}
