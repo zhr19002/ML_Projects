{
 "cells": [
  {
   "cell_type": "code",
   "execution_count": null,
   "id": "5c744867",
   "metadata": {},
   "outputs": [],
   "source": [
    "import gymnasium as gym\n",
    "import ale_py\n",
    "\n",
    "import imageio\n",
    "from IPython.display import Video, display"
   ]
  },
  {
   "cell_type": "code",
   "execution_count": null,
   "id": "c6babb61",
   "metadata": {},
   "outputs": [],
   "source": [
    "gym.register_envs(ale_py)\n",
    "env = gym.make(\"ALE/DemonAttack-v5\", render_mode=\"rgb_array\")\n",
    "obs, info = env.reset(seed=42)"
   ]
  },
  {
   "cell_type": "code",
   "execution_count": null,
   "id": "1ffe0def",
   "metadata": {},
   "outputs": [],
   "source": [
    "frames = []\n",
    "\n",
    "while True:\n",
    "    frames.append(env.render())\n",
    "    action = env.action_space.sample()\n",
    "    obs, reward, terminated, truncated, info = env.step(action)\n",
    "    if terminated or truncated:\n",
    "        break\n",
    "\n",
    "env.close()\n",
    "\n",
    "video_path = \"demon_attack_0.mp4\"\n",
    "imageio.mimsave(video_path, frames, fps=30)\n",
    "display(Video(video_path))"
   ]
  }
 ],
 "metadata": {
  "kernelspec": {
   "display_name": "pytorch-sb3",
   "language": "python",
   "name": "python3"
  },
  "language_info": {
   "codemirror_mode": {
    "name": "ipython",
    "version": 3
   },
   "file_extension": ".py",
   "mimetype": "text/x-python",
   "name": "python",
   "nbconvert_exporter": "python",
   "pygments_lexer": "ipython3",
   "version": "3.12.7"
  }
 },
 "nbformat": 4,
 "nbformat_minor": 5
}
