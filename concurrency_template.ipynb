{
 "cells": [
  {
   "cell_type": "markdown",
   "id": "e9c21fe1-bd9e-4d5d-8b0c-5f32d78e45a8",
   "metadata": {},
   "source": [
    "## Concurrent Programming"
   ]
  },
  {
   "cell_type": "markdown",
   "id": "2ae29198-9df5-4829-afe8-f463f6433be1",
   "metadata": {},
   "source": [
    "- **Concurrency**: Execute multiple tasks on a single CPU by rapidly switching between tasks (ideal for **I/O-bound** tasks)\n",
    "- **Parallelism**: Execute multiple tasks simultaneously across multiple CPUs (ideal for **CPU-bound** tasks)"
   ]
  },
  {
   "cell_type": "markdown",
   "id": "02cc1369-42ca-4227-8812-ebb32108ac84",
   "metadata": {},
   "source": [
    "### Threading (Concurrency)\n",
    "- Can be executed in both **Python scripts** and **Jupyter notebooks**"
   ]
  },
  {
   "cell_type": "code",
   "execution_count": null,
   "id": "ff9dfb0e-aa33-4d33-b90e-501f58fb26cd",
   "metadata": {},
   "outputs": [],
   "source": [
    "import time\n",
    "import threading\n",
    "\n",
    "def print_numbers(count, pause):\n",
    "    for i in range(count):\n",
    "        print(i+1, flush=True)\n",
    "        time.sleep(pause)\n",
    "\n",
    "def print_letters(string, pause):\n",
    "    for c in string:\n",
    "        print(c, flush=True)\n",
    "        time.sleep(pause)\n",
    "\n",
    "if __name__ == '__main__':\n",
    "    start_time = time.time()\n",
    "    \n",
    "    funcs = [print_numbers, print_letters]\n",
    "    args = [(5, 2), ('abcde', 2)]\n",
    "    threads = [threading.Thread(target=funcs[i], args=args[i]) for i in range(len(funcs))]\n",
    "    \n",
    "    for t in threads:\n",
    "        t.start()\n",
    "    for t in threads:\n",
    "        t.join()\n",
    "    \n",
    "    end_time = time.time()\n",
    "    total_time = end_time - start_time\n",
    "    print(f\"Program running time: {total_time:.2f} seconds\")"
   ]
  },
  {
   "cell_type": "markdown",
   "id": "65331c6a-98ab-49ff-8018-a5cb55a97a08",
   "metadata": {},
   "source": [
    "### Multiprocessing (Parallelism)\n",
    "- Can only be executed in **Python scripts**"
   ]
  },
  {
   "cell_type": "code",
   "execution_count": null,
   "id": "ecf085a7-f789-47a5-82d4-c969d8128640",
   "metadata": {},
   "outputs": [],
   "source": [
    "import time\n",
    "import logging\n",
    "import multiprocessing\n",
    "\n",
    "# Set up logging configuration\n",
    "logging.basicConfig(\n",
    "    filename = 'output.log', \n",
    "    level = logging.INFO, \n",
    "    format = '%(asctime)s - %(message)s',\n",
    ")\n",
    "\n",
    "def print_numbers(count, pause):\n",
    "    for i in range(count):\n",
    "        logging.info(i+1)\n",
    "        time.sleep(pause)\n",
    "\n",
    "def print_letters(string, pause):\n",
    "    for c in string:\n",
    "        logging.info(c)\n",
    "        time.sleep(pause)\n",
    "\n",
    "if __name__ == '__main__':\n",
    "    # Get the number of CPU cores\n",
    "    cpu_count = multiprocessing.cpu_count()\n",
    "    logging.info(f\"Number of CPU cores: {cpu_count}\")\n",
    "    \n",
    "    start_time = time.time()\n",
    "    \n",
    "    funcs = [print_numbers, print_letters]\n",
    "    args = [(5, 2), ('abcde', 2)]\n",
    "    processes = [multiprocessing.Process(target=funcs[i], args=args[i]) for i in range(len(funcs))]\n",
    "    \n",
    "    for p in processes:\n",
    "        p.start()\n",
    "    for p in processes:\n",
    "        p.join()\n",
    "    \n",
    "    end_time = time.time()\n",
    "    total_time = end_time - start_time\n",
    "    logging.info(f\"Program running time: {total_time:.2f} seconds\")"
   ]
  },
  {
   "cell_type": "code",
   "execution_count": null,
   "id": "c5a374ac-03d4-44f1-9af4-73b3f42cfd50",
   "metadata": {},
   "outputs": [],
   "source": []
  }
 ],
 "metadata": {
  "kernelspec": {
   "display_name": "Python 3 (ipykernel)",
   "language": "python",
   "name": "python3"
  },
  "language_info": {
   "codemirror_mode": {
    "name": "ipython",
    "version": 3
   },
   "file_extension": ".py",
   "mimetype": "text/x-python",
   "name": "python",
   "nbconvert_exporter": "python",
   "pygments_lexer": "ipython3",
   "version": "3.12.7"
  }
 },
 "nbformat": 4,
 "nbformat_minor": 5
}
