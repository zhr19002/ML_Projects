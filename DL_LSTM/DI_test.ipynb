{
 "cells": [
  {
   "cell_type": "markdown",
   "id": "220646ef",
   "metadata": {},
   "source": [
    "### Import Packages"
   ]
  },
  {
   "cell_type": "code",
   "execution_count": 1,
   "id": "509c2dc6",
   "metadata": {},
   "outputs": [],
   "source": [
    "import numpy as np\n",
    "import pandas as pd\n",
    "import matplotlib.pyplot as plt\n",
    "from scipy import stats"
   ]
  },
  {
   "cell_type": "markdown",
   "id": "103d4a17",
   "metadata": {},
   "source": [
    "### Data Preparation"
   ]
  },
  {
   "cell_type": "code",
   "execution_count": 2,
   "id": "1ed1fba8",
   "metadata": {},
   "outputs": [],
   "source": [
    "# Select dataset (1 for 2004-2013, 2 for 1973-2013)\n",
    "num = 2\n",
    "\n",
    "# Load datasets\n",
    "df1 = pd.read_csv('Data_2004_2013.csv')\n",
    "df2 = pd.read_csv('Data_1973_2004.csv')\n",
    "\n",
    "# Set the timestamp column as the index\n",
    "df1['TimeStamp_1'] = pd.to_datetime(df1['TimeStamp_1'], format='mixed')\n",
    "df2['TimeStamp_1'] = pd.to_datetime(df2['TimeStamp_1'], format='mixed')\n",
    "df1.set_index('TimeStamp_1', inplace=True)\n",
    "df2.set_index('TimeStamp_1', inplace=True)\n",
    "\n",
    "# Extract daily maximum wave heights\n",
    "daily_max_obs = df1['H'].resample('D').max()\n",
    "daily_max_pred = df2['H_pred'].resample('D').max()\n",
    "\n",
    "if num == 1:\n",
    "    SWH = daily_max_obs\n",
    "elif num == 2:\n",
    "    SWH = pd.concat([daily_max_pred, daily_max_obs], axis=0)"
   ]
  },
  {
   "cell_type": "markdown",
   "id": "97cbcb9c",
   "metadata": {},
   "source": [
    "### Dispersion Index (Poisson-ness) Test"
   ]
  },
  {
   "cell_type": "code",
   "execution_count": 3,
   "id": "ce75ebf9",
   "metadata": {},
   "outputs": [
    {
     "name": "stdout",
     "output_type": "stream",
     "text": [
      "Dispersion Index (DI) = 2.541\n",
      "95% CI for DI under Poisson assumption: [0.918, 1.037]\n",
      "Poisson-like behavior: No\n"
     ]
    },
    {
     "data": {
      "image/png": "[encoded data removed]",
      "text/plain": [
       "<Figure size 500x400 with 1 Axes>"
      ]
     },
     "metadata": {},
     "output_type": "display_data"
    }
   ],
   "source": [
    "thresh = 5\n",
    "block_period = 7\n",
    "alpha = 0.05\n",
    "\n",
    "# Filter exceedances\n",
    "exceed = np.array((SWH > thresh).astype(int))\n",
    "\n",
    "# Determine number of blocks\n",
    "n_blocks = len(SWH) // block_period\n",
    "exceed_blocks = exceed[:n_blocks * block_period].reshape((n_blocks, block_period))\n",
    "\n",
    "# Count number of exceedances in each block\n",
    "counts = exceed_blocks.sum(axis=1)\n",
    "\n",
    "# Calculate dispersion index: variance / mean\n",
    "mean_count = np.mean(counts)\n",
    "var_count = np.var(counts, ddof=1)\n",
    "di = var_count / mean_count if mean_count > 0 else np.nan\n",
    "\n",
    "# Confidence interval from chi-squared distribution\n",
    "df = len(counts) - 1\n",
    "ci_low = df * (1 - alpha / 2) / stats.chi2.ppf(1 - alpha / 2, df)\n",
    "ci_high = df * (1 - alpha / 2) / stats.chi2.ppf(alpha / 2, df)\n",
    "\n",
    "# Check if dispersion index is within expected Poisson range\n",
    "poisson_like = (di >= ci_low) and (di <= ci_high)\n",
    "\n",
    "print(f\"Dispersion Index (DI) = {di:.3f}\")\n",
    "print(f\"{(1 - alpha) * 100:.0f}% CI for DI under Poisson assumption: [{ci_low:.3f}, {ci_high:.3f}]\")\n",
    "print(f\"Poisson-like behavior: {'Yes' if poisson_like else 'No'}\")\n",
    "\n",
    "# Plot histogram of block counts\n",
    "plt.figure(figsize=(5, 4))\n",
    "plt.hist(counts, bins='auto', edgecolor='black')\n",
    "plt.xlabel('Exceedances per block')\n",
    "plt.ylabel('Frequency')\n",
    "\n",
    "plt.tight_layout()\n",
    "plt.show()"
   ]
  }
 ],
 "metadata": {
  "kernelspec": {
   "display_name": "tf-gpu",
   "language": "python",
   "name": "python3"
  },
  "language_info": {
   "codemirror_mode": {
    "name": "ipython",
    "version": 3
   },
   "file_extension": ".py",
   "mimetype": "text/x-python",
   "name": "python",
   "nbconvert_exporter": "python",
   "pygments_lexer": "ipython3",
   "version": "3.12.7"
  }
 },
 "nbformat": 4,
 "nbformat_minor": 5
}
