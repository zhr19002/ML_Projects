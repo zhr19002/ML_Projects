{
 "cells": [
  {
   "cell_type": "markdown",
   "id": "1e863303-6f52-4f07-a16e-ffb2885f6788",
   "metadata": {},
   "source": [
    "### Import Packages"
   ]
  },
  {
   "cell_type": "code",
   "execution_count": 1,
   "id": "11a9cb29",
   "metadata": {},
   "outputs": [
    {
     "name": "stdout",
     "output_type": "stream",
     "text": [
      "Fri May  2 18:42:55 2025       \n",
      "+-----------------------------------------------------------------------------------------+\n",
      "| NVIDIA-SMI 570.86.15              Driver Version: 570.86.15      CUDA Version: 12.8     |\n",
      "|-----------------------------------------+------------------------+----------------------+\n",
      "| GPU  Name                 Persistence-M | Bus-Id          Disp.A | Volatile Uncorr. ECC |\n",
      "| Fan  Temp   Perf          Pwr:Usage/Cap |           Memory-Usage | GPU-Util  Compute M. |\n",
      "|                                         |                        |               MIG M. |\n",
      "|=========================================+========================+======================|\n",
      "|   0  NVIDIA A100-PCIE-40GB          Off |   00000000:25:00.0 Off |                    0 |\n",
      "| N/A   28C    P0             33W /  250W |       1MiB /  40960MiB |      0%      Default |\n",
      "|                                         |                        |             Disabled |\n",
      "+-----------------------------------------+------------------------+----------------------+\n",
      "|   1  NVIDIA A100-PCIE-40GB          Off |   00000000:81:00.0 Off |                    0 |\n",
      "| N/A   29C    P0             35W /  250W |       1MiB /  40960MiB |      0%      Default |\n",
      "|                                         |                        |             Disabled |\n",
      "+-----------------------------------------+------------------------+----------------------+\n",
      "|   2  NVIDIA A100-PCIE-40GB          Off |   00000000:E2:00.0 Off |                    0 |\n",
      "| N/A   30C    P0             36W /  250W |       1MiB /  40960MiB |      0%      Default |\n",
      "|                                         |                        |             Disabled |\n",
      "+-----------------------------------------+------------------------+----------------------+\n",
      "                                                                                         \n",
      "+-----------------------------------------------------------------------------------------+\n",
      "| Processes:                                                                              |\n",
      "|  GPU   GI   CI              PID   Type   Process name                        GPU Memory |\n",
      "|        ID   ID                                                               Usage      |\n",
      "|=========================================================================================|\n",
      "|  No running processes found                                                             |\n",
      "+-----------------------------------------------------------------------------------------+\n"
     ]
    }
   ],
   "source": [
    "! nvidia-smi"
   ]
  },
  {
   "cell_type": "code",
   "execution_count": 2,
   "id": "7f589ee6-df13-43d9-a409-99df17e19d87",
   "metadata": {},
   "outputs": [
    {
     "name": "stdout",
     "output_type": "stream",
     "text": [
      "TensorFlow version:  2.19.0\n",
      "Number of GPUs available:  1\n"
     ]
    }
   ],
   "source": [
    "import os\n",
    "import random\n",
    "import numpy as np\n",
    "import pandas as pd\n",
    "import matplotlib.pyplot as plt\n",
    "from sklearn.utils import class_weight\n",
    "from sklearn.metrics import recall_score, f1_score\n",
    "\n",
    "import tensorflow as tf\n",
    "from keras.models import Model, load_model\n",
    "from keras.layers import Input, LSTM, Dense, MultiHeadAttention, GlobalAveragePooling1D\n",
    "from keras.optimizers import Adam\n",
    "from keras.callbacks import EarlyStopping\n",
    "\n",
    "seed = 42\n",
    "os.environ['PYTHONHASHSEED'] = str(seed)\n",
    "random.seed(seed)\n",
    "np.random.seed(seed)\n",
    "tf.random.set_seed(seed)\n",
    "\n",
    "print(\"TensorFlow version: \", tf.__version__)\n",
    "print(\"Number of GPUs available: \", len(tf.config.list_physical_devices('GPU')))"
   ]
  },
  {
   "cell_type": "markdown",
   "id": "476ba84b-a1d4-4fe5-b2a4-7ef51c0f2ef5",
   "metadata": {},
   "source": [
    "### Data Preprocessing"
   ]
  },
  {
   "cell_type": "code",
   "execution_count": 3,
   "id": "7d92ba2f-bbf7-4e8f-95be-d9a6414ffddf",
   "metadata": {},
   "outputs": [
    {
     "data": {
      "image/png": "[encoded data removed]",
      "text/plain": [
       "<Figure size 600x300 with 2 Axes>"
      ]
     },
     "metadata": {},
     "output_type": "display_data"
    }
   ],
   "source": [
    "spike = 4\n",
    "wind_cols = ['uSq','e_uSq','n_uSq','Z2','Z3','Z4']\n",
    "scaled_wind_cols = ['scaled_' + col for col in wind_cols]\n",
    "\n",
    "# Load datasets\n",
    "df1 = pd.read_csv('Data_2004_2013.csv')\n",
    "df1['Spike'] = (df1['H'] > spike).astype(int)\n",
    "\n",
    "# Set the timestamp column as the index\n",
    "df1['TimeStamp_1'] = pd.to_datetime(df1['TimeStamp_1'], format='mixed')\n",
    "df1.set_index('TimeStamp_1', inplace=True)\n",
    "\n",
    "# Train-Test split\n",
    "# df_train: [2004-11-01 00:00:00 ~ 2007-10-31 23:00:00, 2008-11-01 00:00:00 ~ 2013-10-31 23:00:00]\n",
    "# df_test: [2007-11-01 00:00:00 ~ 2008-10-31 23:00:00]\n",
    "split1 = pd.to_datetime('2007-10-31 23:59:00')\n",
    "split2 = pd.to_datetime('2008-10-31 23:59:00')\n",
    "df_train = df1[(df1.index < split1) | (df1.index > split2)]\n",
    "df_test = df1[(df1.index > split1) & (df1.index < split2)]\n",
    "\n",
    "# Plot distributions of spikes and non-spikes\n",
    "plt.figure(figsize=(6, 3))\n",
    "\n",
    "plt.subplot(1, 2, 1)\n",
    "train_counts = df_train['Spike'].value_counts(normalize=True)\n",
    "train_counts.plot(kind='bar')\n",
    "plt.title('Training Set')\n",
    "for i, v in enumerate(train_counts):\n",
    "    plt.text(i, v+0.005, f'{v:.1%}', ha='center', va='bottom')\n",
    "\n",
    "plt.subplot(1, 2, 2)\n",
    "test_counts = df_test['Spike'].value_counts(normalize=True)\n",
    "test_counts.plot(kind='bar')\n",
    "plt.title('Test Set')\n",
    "for i, v in enumerate(test_counts):\n",
    "    plt.text(i, v+0.005, f'{v:.1%}', ha='center', va='bottom')\n",
    "\n",
    "plt.tight_layout()\n",
    "plt.show()"
   ]
  },
  {
   "cell_type": "markdown",
   "id": "d7d7cf60-2a95-4467-9976-c65858e86d0e",
   "metadata": {},
   "source": [
    "### Data Preparation: Train-Test-Validation Split"
   ]
  },
  {
   "cell_type": "code",
   "execution_count": 4,
   "id": "ab7ce1c0-20ee-40b8-ba44-fdb6f6550d93",
   "metadata": {},
   "outputs": [
    {
     "name": "stdout",
     "output_type": "stream",
     "text": [
      "(61332, 7, 6)\n",
      "(8754, 7, 6)\n",
      "(8778, 7, 6)\n"
     ]
    }
   ],
   "source": [
    "time_step = 6\n",
    "features = ['Spike'] + scaled_wind_cols\n",
    "\n",
    "def create_sequences(data, time_step):\n",
    "    X, y = [], []\n",
    "    for i in range(len(data)-time_step):\n",
    "        X.append(data[i:(i+time_step+1), 1:])  # Past hours wind features\n",
    "        y.append(data[i+time_step, 0])         # Current hour wave height\n",
    "    return np.array(X), np.array(y)\n",
    "\n",
    "# Training set: [2004-11-01 00:00:00 ~ 2007-10-31 23:00:00, 2009-11-01 00:00:00 ~ 2013-10-31 23:00:00]\n",
    "# Validation set: [2008-11-01 00:00:00 ~ 2009-10-31 23:00:00]\n",
    "split3 = pd.to_datetime('2009-10-31 23:59:00')\n",
    "df_train1 = df_train[df_train.index < split1]\n",
    "df_train2 = df_train[df_train.index > split3]\n",
    "df_val = df_train[(df_train.index > split2) & (df_train.index < split3)]\n",
    "\n",
    "X_train1, y_train1 = create_sequences(df_train1[features].values, time_step)\n",
    "X_train2, y_train2 = create_sequences(df_train2[features].values, time_step)\n",
    "X_train, y_train = np.concatenate((X_train1, X_train2), axis=0), np.concatenate((y_train1, y_train2), axis=0)\n",
    "X_val, y_val = create_sequences(df_val[features].values, time_step)\n",
    "X_test, y_test = create_sequences(df_test[features].values, time_step)\n",
    "\n",
    "print(X_train.shape)\n",
    "print(X_val.shape)\n",
    "print(X_test.shape)"
   ]
  },
  {
   "cell_type": "markdown",
   "id": "4d0e4805-faff-4c80-8fa6-4638e11e0b6e",
   "metadata": {},
   "source": [
    "### Model Selection and Implementation"
   ]
  },
  {
   "cell_type": "code",
   "execution_count": null,
   "id": "7477eb4f",
   "metadata": {},
   "outputs": [],
   "source": [
    "epochs = 100\n",
    "batch_size = 64\n",
    "model_file = 'model_cls.keras'\n",
    "\n",
    "def create_model(X_train):\n",
    "    # Input layer with shape: (batch_size, time_steps, features)\n",
    "    input_layer = Input(shape=(X_train.shape[1], X_train.shape[2]))\n",
    "    \n",
    "    # LSTM layer\n",
    "    units = 128\n",
    "    lstm_layer = LSTM(units=64, activation='tanh', return_sequences=True)(input_layer)\n",
    "    lstm_out = LSTM(units=units, activation='tanh', return_sequences=True)(lstm_layer)\n",
    "    \n",
    "    # Attention layer\n",
    "    num_heads = 2\n",
    "    attn_out = MultiHeadAttention(num_heads=num_heads, key_dim=units//num_heads)(lstm_out, lstm_out)\n",
    "\n",
    "    # Pooling layer\n",
    "    pooled_out = GlobalAveragePooling1D()(attn_out)\n",
    "\n",
    "    # Output layer\n",
    "    output_layer = Dense(1, activation='sigmoid')(pooled_out)\n",
    "\n",
    "    # Build model\n",
    "    model = Model(inputs=input_layer, outputs=output_layer)\n",
    "    model.compile(optimizer=Adam(learning_rate=5.6e-4), loss='binary_crossentropy', metrics=['AUC'])\n",
    "    \n",
    "    return model\n",
    "\n",
    "# Class weights computation\n",
    "w_array = class_weight.compute_class_weight('balanced', classes=np.unique(y_train), y=y_train)\n",
    "w_dict = {i:w_array[i] for i in range(len(w_array))}\n",
    "\n",
    "# Train and save the model (architecture + weights)\n",
    "model = create_model(X_train)\n",
    "es = EarlyStopping(monitor='val_loss', patience=10, restore_best_weights=True)\n",
    "history = model.fit(X_train, y_train, epochs=epochs, batch_size=batch_size, class_weight=w_dict, validation_data=(X_val, y_val), callbacks=[es])\n",
    "model.save(model_file)\n",
    "\n",
    "# Plot the training & validation loss over epochs\n",
    "plt.figure(figsize=(6, 4))\n",
    "plt.plot(history.history['loss'], label='Training Loss')\n",
    "plt.plot(history.history['val_loss'], label='Validation Loss')\n",
    "plt.xlabel('Epochs')\n",
    "plt.ylabel('Loss')\n",
    "plt.legend()\n",
    "\n",
    "plt.tight_layout()\n",
    "plt.show()"
   ]
  },
  {
   "cell_type": "markdown",
   "id": "b5f8fd29-8ffc-49a5-9b94-04da3c4df9c5",
   "metadata": {},
   "source": [
    "### Hyperparameters Tuning\n",
    "\n",
    "- **Time steps**: 6\n",
    "- **Batch size**: 64\n",
    "- **# of LSTM layers**: 1, 2, 3\n",
    "- **# of LSTM units**: 32, 64, 128, 256\n",
    "- **# of Attention heads**: 2, 4, 8\n",
    "- **Activation**: 'tanh' (might work better for LSTM layers)\n",
    "- **Learning rate**: logarithmic sampling of $10^{-4}$ ~ $10^{-2}$"
   ]
  },
  {
   "cell_type": "code",
   "execution_count": 5,
   "id": "11001255",
   "metadata": {},
   "outputs": [
    {
     "name": "stdout",
     "output_type": "stream",
     "text": [
      "Reloading Tuner from hp_tuning/model_cls/tuner0.json\n"
     ]
    }
   ],
   "source": [
    "%run hp_tuning_cls.py"
   ]
  },
  {
   "cell_type": "code",
   "execution_count": 6,
   "id": "1996b7f9-8ad0-4138-9fcb-c36e766995af",
   "metadata": {},
   "outputs": [
    {
     "name": "stdout",
     "output_type": "stream",
     "text": [
      "{'layers': 2, 'units_0': 64, 'heads': 2, 'learning_rate': 0.0005595977770079655, 'units_1': 128, 'units_2': 128, 'tuner/epochs': 100, 'tuner/initial_epoch': 0, 'tuner/bracket': 0, 'tuner/round': 0}\n",
      "\n"
     ]
    },
    {
     "name": "stderr",
     "output_type": "stream",
     "text": [
      "I0000 00:00:1747067833.581600 2805430 gpu_device.cc:2019] Created device /job:localhost/replica:0/task:0/device:GPU:0 with 38483 MB memory:  -> device: 0, name: NVIDIA A100-PCIE-40GB, pci bus id: 0000:25:00.0, compute capability: 8.0\n"
     ]
    },
    {
     "data": {
      "text/html": [
       "<pre style=\"white-space:pre;overflow-x:auto;line-height:normal;font-family:Menlo,'DejaVu Sans Mono',consolas,'Courier New',monospace\"><span style=\"font-weight: bold\">Model: \"functional\"</span>\n",
       "</pre>\n"
      ],
      "text/plain": [
       "\u001b[1mModel: \"functional\"\u001b[0m\n"
      ]
     },
     "metadata": {},
     "output_type": "display_data"
    },
    {
     "data": {
      "text/html": [
       "<pre style=\"white-space:pre;overflow-x:auto;line-height:normal;font-family:Menlo,'DejaVu Sans Mono',consolas,'Courier New',monospace\">┏━━━━━━━━━━━━━━━━━━━━━┳━━━━━━━━━━━━━━━━━━━┳━━━━━━━━━━━━┳━━━━━━━━━━━━━━━━━━━┓\n",
       "┃<span style=\"font-weight: bold\"> Layer (type)        </span>┃<span style=\"font-weight: bold\"> Output Shape      </span>┃<span style=\"font-weight: bold\">    Param # </span>┃<span style=\"font-weight: bold\"> Connected to      </span>┃\n",
       "┡━━━━━━━━━━━━━━━━━━━━━╇━━━━━━━━━━━━━━━━━━━╇━━━━━━━━━━━━╇━━━━━━━━━━━━━━━━━━━┩\n",
       "│ input_layer         │ (<span style=\"color: #00d7ff; text-decoration-color: #00d7ff\">None</span>, <span style=\"color: #00af00; text-decoration-color: #00af00\">7</span>, <span style=\"color: #00af00; text-decoration-color: #00af00\">6</span>)      │          <span style=\"color: #00af00; text-decoration-color: #00af00\">0</span> │ -                 │\n",
       "│ (<span style=\"color: #0087ff; text-decoration-color: #0087ff\">InputLayer</span>)        │                   │            │                   │\n",
       "├─────────────────────┼───────────────────┼────────────┼───────────────────┤\n",
       "│ lstm (<span style=\"color: #0087ff; text-decoration-color: #0087ff\">LSTM</span>)         │ (<span style=\"color: #00d7ff; text-decoration-color: #00d7ff\">None</span>, <span style=\"color: #00af00; text-decoration-color: #00af00\">7</span>, <span style=\"color: #00af00; text-decoration-color: #00af00\">64</span>)     │     <span style=\"color: #00af00; text-decoration-color: #00af00\">18,176</span> │ input_layer[<span style=\"color: #00af00; text-decoration-color: #00af00\">0</span>][<span style=\"color: #00af00; text-decoration-color: #00af00\">0</span>] │\n",
       "├─────────────────────┼───────────────────┼────────────┼───────────────────┤\n",
       "│ lstm_1 (<span style=\"color: #0087ff; text-decoration-color: #0087ff\">LSTM</span>)       │ (<span style=\"color: #00d7ff; text-decoration-color: #00d7ff\">None</span>, <span style=\"color: #00af00; text-decoration-color: #00af00\">7</span>, <span style=\"color: #00af00; text-decoration-color: #00af00\">128</span>)    │     <span style=\"color: #00af00; text-decoration-color: #00af00\">98,816</span> │ lstm[<span style=\"color: #00af00; text-decoration-color: #00af00\">0</span>][<span style=\"color: #00af00; text-decoration-color: #00af00\">0</span>]        │\n",
       "├─────────────────────┼───────────────────┼────────────┼───────────────────┤\n",
       "│ multihead_attn      │ [(<span style=\"color: #00d7ff; text-decoration-color: #00d7ff\">None</span>, <span style=\"color: #00af00; text-decoration-color: #00af00\">7</span>, <span style=\"color: #00af00; text-decoration-color: #00af00\">128</span>),  │     <span style=\"color: #00af00; text-decoration-color: #00af00\">66,048</span> │ lstm_1[<span style=\"color: #00af00; text-decoration-color: #00af00\">0</span>][<span style=\"color: #00af00; text-decoration-color: #00af00\">0</span>],     │\n",
       "│ (<span style=\"color: #0087ff; text-decoration-color: #0087ff\">MultiHeadAttentio…</span> │ (<span style=\"color: #00d7ff; text-decoration-color: #00d7ff\">None</span>, <span style=\"color: #00af00; text-decoration-color: #00af00\">2</span>, <span style=\"color: #00af00; text-decoration-color: #00af00\">7</span>, <span style=\"color: #00af00; text-decoration-color: #00af00\">7</span>)]  │            │ lstm_1[<span style=\"color: #00af00; text-decoration-color: #00af00\">0</span>][<span style=\"color: #00af00; text-decoration-color: #00af00\">0</span>]      │\n",
       "├─────────────────────┼───────────────────┼────────────┼───────────────────┤\n",
       "│ global_average_poo… │ (<span style=\"color: #00d7ff; text-decoration-color: #00d7ff\">None</span>, <span style=\"color: #00af00; text-decoration-color: #00af00\">128</span>)       │          <span style=\"color: #00af00; text-decoration-color: #00af00\">0</span> │ multihead_attn[<span style=\"color: #00af00; text-decoration-color: #00af00\">0</span>… │\n",
       "│ (<span style=\"color: #0087ff; text-decoration-color: #0087ff\">GlobalAveragePool…</span> │                   │            │                   │\n",
       "├─────────────────────┼───────────────────┼────────────┼───────────────────┤\n",
       "│ dense (<span style=\"color: #0087ff; text-decoration-color: #0087ff\">Dense</span>)       │ (<span style=\"color: #00d7ff; text-decoration-color: #00d7ff\">None</span>, <span style=\"color: #00af00; text-decoration-color: #00af00\">1</span>)         │        <span style=\"color: #00af00; text-decoration-color: #00af00\">129</span> │ global_average_p… │\n",
       "└─────────────────────┴───────────────────┴────────────┴───────────────────┘\n",
       "</pre>\n"
      ],
      "text/plain": [
       "┏━━━━━━━━━━━━━━━━━━━━━┳━━━━━━━━━━━━━━━━━━━┳━━━━━━━━━━━━┳━━━━━━━━━━━━━━━━━━━┓\n",
       "┃\u001b[1m \u001b[0m\u001b[1mLayer (type)       \u001b[0m\u001b[1m \u001b[0m┃\u001b[1m \u001b[0m\u001b[1mOutput Shape     \u001b[0m\u001b[1m \u001b[0m┃\u001b[1m \u001b[0m\u001b[1m   Param #\u001b[0m\u001b[1m \u001b[0m┃\u001b[1m \u001b[0m\u001b[1mConnected to     \u001b[0m\u001b[1m \u001b[0m┃\n",
       "┡━━━━━━━━━━━━━━━━━━━━━╇━━━━━━━━━━━━━━━━━━━╇━━━━━━━━━━━━╇━━━━━━━━━━━━━━━━━━━┩\n",
       "│ input_layer         │ (\u001b[38;5;45mNone\u001b[0m, \u001b[38;5;34m7\u001b[0m, \u001b[38;5;34m6\u001b[0m)      │          \u001b[38;5;34m0\u001b[0m │ -                 │\n",
       "│ (\u001b[38;5;33mInputLayer\u001b[0m)        │                   │            │                   │\n",
       "├─────────────────────┼───────────────────┼────────────┼───────────────────┤\n",
       "│ lstm (\u001b[38;5;33mLSTM\u001b[0m)         │ (\u001b[38;5;45mNone\u001b[0m, \u001b[38;5;34m7\u001b[0m, \u001b[38;5;34m64\u001b[0m)     │     \u001b[38;5;34m18,176\u001b[0m │ input_layer[\u001b[38;5;34m0\u001b[0m][\u001b[38;5;34m0\u001b[0m] │\n",
       "├─────────────────────┼───────────────────┼────────────┼───────────────────┤\n",
       "│ lstm_1 (\u001b[38;5;33mLSTM\u001b[0m)       │ (\u001b[38;5;45mNone\u001b[0m, \u001b[38;5;34m7\u001b[0m, \u001b[38;5;34m128\u001b[0m)    │     \u001b[38;5;34m98,816\u001b[0m │ lstm[\u001b[38;5;34m0\u001b[0m][\u001b[38;5;34m0\u001b[0m]        │\n",
       "├─────────────────────┼───────────────────┼────────────┼───────────────────┤\n",
       "│ multihead_attn      │ [(\u001b[38;5;45mNone\u001b[0m, \u001b[38;5;34m7\u001b[0m, \u001b[38;5;34m128\u001b[0m),  │     \u001b[38;5;34m66,048\u001b[0m │ lstm_1[\u001b[38;5;34m0\u001b[0m][\u001b[38;5;34m0\u001b[0m],     │\n",
       "│ (\u001b[38;5;33mMultiHeadAttentio…\u001b[0m │ (\u001b[38;5;45mNone\u001b[0m, \u001b[38;5;34m2\u001b[0m, \u001b[38;5;34m7\u001b[0m, \u001b[38;5;34m7\u001b[0m)]  │            │ lstm_1[\u001b[38;5;34m0\u001b[0m][\u001b[38;5;34m0\u001b[0m]      │\n",
       "├─────────────────────┼───────────────────┼────────────┼───────────────────┤\n",
       "│ global_average_poo… │ (\u001b[38;5;45mNone\u001b[0m, \u001b[38;5;34m128\u001b[0m)       │          \u001b[38;5;34m0\u001b[0m │ multihead_attn[\u001b[38;5;34m0\u001b[0m… │\n",
       "│ (\u001b[38;5;33mGlobalAveragePool…\u001b[0m │                   │            │                   │\n",
       "├─────────────────────┼───────────────────┼────────────┼───────────────────┤\n",
       "│ dense (\u001b[38;5;33mDense\u001b[0m)       │ (\u001b[38;5;45mNone\u001b[0m, \u001b[38;5;34m1\u001b[0m)         │        \u001b[38;5;34m129\u001b[0m │ global_average_p… │\n",
       "└─────────────────────┴───────────────────┴────────────┴───────────────────┘\n"
      ]
     },
     "metadata": {},
     "output_type": "display_data"
    },
    {
     "data": {
      "text/html": [
       "<pre style=\"white-space:pre;overflow-x:auto;line-height:normal;font-family:Menlo,'DejaVu Sans Mono',consolas,'Courier New',monospace\"><span style=\"font-weight: bold\"> Total params: </span><span style=\"color: #00af00; text-decoration-color: #00af00\">183,169</span> (715.50 KB)\n",
       "</pre>\n"
      ],
      "text/plain": [
       "\u001b[1m Total params: \u001b[0m\u001b[38;5;34m183,169\u001b[0m (715.50 KB)\n"
      ]
     },
     "metadata": {},
     "output_type": "display_data"
    },
    {
     "data": {
      "text/html": [
       "<pre style=\"white-space:pre;overflow-x:auto;line-height:normal;font-family:Menlo,'DejaVu Sans Mono',consolas,'Courier New',monospace\"><span style=\"font-weight: bold\"> Trainable params: </span><span style=\"color: #00af00; text-decoration-color: #00af00\">183,169</span> (715.50 KB)\n",
       "</pre>\n"
      ],
      "text/plain": [
       "\u001b[1m Trainable params: \u001b[0m\u001b[38;5;34m183,169\u001b[0m (715.50 KB)\n"
      ]
     },
     "metadata": {},
     "output_type": "display_data"
    },
    {
     "data": {
      "text/html": [
       "<pre style=\"white-space:pre;overflow-x:auto;line-height:normal;font-family:Menlo,'DejaVu Sans Mono',consolas,'Courier New',monospace\"><span style=\"font-weight: bold\"> Non-trainable params: </span><span style=\"color: #00af00; text-decoration-color: #00af00\">0</span> (0.00 B)\n",
       "</pre>\n"
      ],
      "text/plain": [
       "\u001b[1m Non-trainable params: \u001b[0m\u001b[38;5;34m0\u001b[0m (0.00 B)\n"
      ]
     },
     "metadata": {},
     "output_type": "display_data"
    },
    {
     "name": "stdout",
     "output_type": "stream",
     "text": [
      "None\n"
     ]
    }
   ],
   "source": [
    "# Best hyperparameters\n",
    "best_hp = tuner.get_best_hyperparameters()[0]\n",
    "print(best_hp.values)\n",
    "print()\n",
    "\n",
    "# Best model\n",
    "best_model = tuner.hypermodel.build(best_hp)\n",
    "best_model.compile(optimizer=Adam(learning_rate=best_hp.values['learning_rate']), loss='binary_crossentropy', metrics=['AUC'])\n",
    "print(best_model.summary())"
   ]
  },
  {
   "cell_type": "code",
   "execution_count": 7,
   "id": "2e41c136-6051-45a4-b690-883058c14bc5",
   "metadata": {},
   "outputs": [
    {
     "name": "stderr",
     "output_type": "stream",
     "text": [
      "I0000 00:00:1747067839.427899 2806279 cuda_dnn.cc:529] Loaded cuDNN version 90300\n"
     ]
    },
    {
     "data": {
      "image/png": "[encoded data removed]",
      "text/plain": [
       "<Figure size 600x400 with 1 Axes>"
      ]
     },
     "metadata": {},
     "output_type": "display_data"
    }
   ],
   "source": [
    "model_file = 'best_model_cls.keras'\n",
    "\n",
    "# Train and save the model (architecture + weights)\n",
    "history = best_model.fit(X_train, y_train, epochs=epochs, batch_size=batch_size, class_weight=w_dict, validation_data=(X_val, y_val), callbacks=[es], verbose=0)\n",
    "best_model.save(model_file)\n",
    "\n",
    "# Plot the training & validation loss over epochs\n",
    "plt.figure(figsize=(6, 4))\n",
    "plt.plot(history.history['loss'], label='Training Loss')\n",
    "plt.plot(history.history['val_loss'], label='Validation Loss')\n",
    "plt.xlabel('Epochs')\n",
    "plt.ylabel('Loss')\n",
    "plt.legend()\n",
    "\n",
    "plt.tight_layout()\n",
    "plt.show()"
   ]
  },
  {
   "cell_type": "markdown",
   "id": "18125fb4-9da1-4359-8f40-5dd8ba44a68f",
   "metadata": {},
   "source": [
    "### Model Evaluation"
   ]
  },
  {
   "cell_type": "code",
   "execution_count": 8,
   "id": "c53c2193-4d57-4717-85fe-3c1ea64c04fa",
   "metadata": {},
   "outputs": [
    {
     "name": "stdout",
     "output_type": "stream",
     "text": [
      "Training Recall: 0.941\n",
      "Validation Recall: 0.940\n",
      "Test Recall: 0.979\n",
      "\n",
      "Training F1: 0.305\n",
      "Validation F1: 0.264\n",
      "Test F1: 0.315\n"
     ]
    }
   ],
   "source": [
    "threshold = 0.3\n",
    "\n",
    "# Load the saved model\n",
    "model = load_model(model_file)\n",
    "\n",
    "# Training error\n",
    "y_pred1 = model.predict(X_train, verbose=0)\n",
    "y_pred1_raw = (y_pred1 >= threshold).astype(int)\n",
    "y_true1 = pd.concat([df_train1['Spike'][time_step:], df_train2['Spike'][time_step:]], axis=0)\n",
    "\n",
    "# Validation error\n",
    "y_pred2 = model.predict(X_val, verbose=0)\n",
    "y_pred2_raw = (y_pred2 >= threshold).astype(int)\n",
    "y_true2 = df_val['Spike'][time_step:]\n",
    "\n",
    "# Test error\n",
    "y_pred3 = model.predict(X_test, verbose=0)\n",
    "y_pred3_raw = (y_pred3 >= threshold).astype(int)\n",
    "y_true3 = df_test['Spike'][time_step:]\n",
    "\n",
    "print(f'Training Recall: {recall_score(y_true1, y_pred1_raw):.3f}')\n",
    "print(f'Validation Recall: {recall_score(y_true2, y_pred2_raw):.3f}')\n",
    "print(f'Test Recall: {recall_score(y_true3, y_pred3_raw):.3f}')\n",
    "print()\n",
    "print(f'Training F1: {f1_score(y_true1, y_pred1_raw):.3f}')\n",
    "print(f'Validation F1: {f1_score(y_true2, y_pred2_raw):.3f}')\n",
    "print(f'Test F1: {f1_score(y_true3, y_pred3_raw):.3f}')"
   ]
  },
  {
   "cell_type": "markdown",
   "id": "c62b3b62-964f-4501-a623-3e493bbea3f5",
   "metadata": {},
   "source": [
    "### Model Output"
   ]
  },
  {
   "cell_type": "code",
   "execution_count": 9,
   "id": "f266e4c4-811c-4dcc-ac19-f5bbc1be2765",
   "metadata": {},
   "outputs": [
    {
     "data": {
      "text/html": [
       "<div>\n",
       "<style scoped>\n",
       "    .dataframe tbody tr th:only-of-type {\n",
       "        vertical-align: middle;\n",
       "    }\n",
       "\n",
       "    .dataframe tbody tr th {\n",
       "        vertical-align: top;\n",
       "    }\n",
       "\n",
       "    .dataframe thead th {\n",
       "        text-align: right;\n",
       "    }\n",
       "</style>\n",
       "<table border=\"1\" class=\"dataframe\">\n",
       "  <thead>\n",
       "    <tr style=\"text-align: right;\">\n",
       "      <th></th>\n",
       "      <th>H</th>\n",
       "      <th>uSq</th>\n",
       "      <th>e_uSq</th>\n",
       "      <th>n_uSq</th>\n",
       "      <th>Z2</th>\n",
       "      <th>Z3</th>\n",
       "      <th>Z4</th>\n",
       "      <th>scaled_H</th>\n",
       "      <th>scaled_uSq</th>\n",
       "      <th>scaled_e_uSq</th>\n",
       "      <th>scaled_n_uSq</th>\n",
       "      <th>scaled_Z2</th>\n",
       "      <th>scaled_Z3</th>\n",
       "      <th>scaled_Z4</th>\n",
       "      <th>H_pred0</th>\n",
       "      <th>Spike</th>\n",
       "      <th>Spike_prob</th>\n",
       "      <th>Spike_pred</th>\n",
       "    </tr>\n",
       "    <tr>\n",
       "      <th>TimeStamp_1</th>\n",
       "      <th></th>\n",
       "      <th></th>\n",
       "      <th></th>\n",
       "      <th></th>\n",
       "      <th></th>\n",
       "      <th></th>\n",
       "      <th></th>\n",
       "      <th></th>\n",
       "      <th></th>\n",
       "      <th></th>\n",
       "      <th></th>\n",
       "      <th></th>\n",
       "      <th></th>\n",
       "      <th></th>\n",
       "      <th></th>\n",
       "      <th></th>\n",
       "      <th></th>\n",
       "      <th></th>\n",
       "    </tr>\n",
       "  </thead>\n",
       "  <tbody>\n",
       "    <tr>\n",
       "      <th>2004-11-01 00:00:00</th>\n",
       "      <td>3.249133</td>\n",
       "      <td>19.225945</td>\n",
       "      <td>18.733185</td>\n",
       "      <td>-4.324897</td>\n",
       "      <td>556.247086</td>\n",
       "      <td>16093.4</td>\n",
       "      <td>465615.964363</td>\n",
       "      <td>0.319463</td>\n",
       "      <td>0.042443</td>\n",
       "      <td>0.717843</td>\n",
       "      <td>0.427481</td>\n",
       "      <td>0.101141</td>\n",
       "      <td>0.042553</td>\n",
       "      <td>0.021635</td>\n",
       "      <td>0.000000</td>\n",
       "      <td>0</td>\n",
       "      <td>0.000000</td>\n",
       "      <td>0.0</td>\n",
       "    </tr>\n",
       "    <tr>\n",
       "      <th>2004-11-01 01:00:00</th>\n",
       "      <td>3.249133</td>\n",
       "      <td>47.299731</td>\n",
       "      <td>-43.539632</td>\n",
       "      <td>18.481477</td>\n",
       "      <td>872.475497</td>\n",
       "      <td>16093.4</td>\n",
       "      <td>296853.635864</td>\n",
       "      <td>0.319463</td>\n",
       "      <td>0.111609</td>\n",
       "      <td>0.612923</td>\n",
       "      <td>0.482862</td>\n",
       "      <td>0.181946</td>\n",
       "      <td>0.042553</td>\n",
       "      <td>0.012009</td>\n",
       "      <td>0.000000</td>\n",
       "      <td>0</td>\n",
       "      <td>0.000000</td>\n",
       "      <td>0.0</td>\n",
       "    </tr>\n",
       "    <tr>\n",
       "      <th>2004-11-01 02:00:00</th>\n",
       "      <td>1.960359</td>\n",
       "      <td>43.096993</td>\n",
       "      <td>-23.472305</td>\n",
       "      <td>-36.144180</td>\n",
       "      <td>832.812792</td>\n",
       "      <td>16093.4</td>\n",
       "      <td>310991.288972</td>\n",
       "      <td>0.192748</td>\n",
       "      <td>0.101255</td>\n",
       "      <td>0.646733</td>\n",
       "      <td>0.350213</td>\n",
       "      <td>0.171811</td>\n",
       "      <td>0.042553</td>\n",
       "      <td>0.012816</td>\n",
       "      <td>0.000000</td>\n",
       "      <td>0</td>\n",
       "      <td>0.000000</td>\n",
       "      <td>0.0</td>\n",
       "    </tr>\n",
       "    <tr>\n",
       "      <th>2004-11-01 03:00:00</th>\n",
       "      <td>2.001249</td>\n",
       "      <td>28.241040</td>\n",
       "      <td>-25.162951</td>\n",
       "      <td>-12.821164</td>\n",
       "      <td>674.161969</td>\n",
       "      <td>16093.4</td>\n",
       "      <td>384177.000917</td>\n",
       "      <td>0.196768</td>\n",
       "      <td>0.064654</td>\n",
       "      <td>0.643885</td>\n",
       "      <td>0.406849</td>\n",
       "      <td>0.131272</td>\n",
       "      <td>0.042553</td>\n",
       "      <td>0.016990</td>\n",
       "      <td>0.000000</td>\n",
       "      <td>0</td>\n",
       "      <td>0.000000</td>\n",
       "      <td>0.0</td>\n",
       "    </tr>\n",
       "    <tr>\n",
       "      <th>2004-11-01 04:00:00</th>\n",
       "      <td>3.254957</td>\n",
       "      <td>35.278017</td>\n",
       "      <td>-19.213785</td>\n",
       "      <td>-29.586634</td>\n",
       "      <td>753.487381</td>\n",
       "      <td>16093.4</td>\n",
       "      <td>343731.733585</td>\n",
       "      <td>0.320036</td>\n",
       "      <td>0.081991</td>\n",
       "      <td>0.653908</td>\n",
       "      <td>0.366137</td>\n",
       "      <td>0.151541</td>\n",
       "      <td>0.042553</td>\n",
       "      <td>0.014683</td>\n",
       "      <td>0.000000</td>\n",
       "      <td>0</td>\n",
       "      <td>0.000000</td>\n",
       "      <td>0.0</td>\n",
       "    </tr>\n",
       "    <tr>\n",
       "      <th>2004-11-01 05:00:00</th>\n",
       "      <td>3.298333</td>\n",
       "      <td>33.337921</td>\n",
       "      <td>-13.026164</td>\n",
       "      <td>-30.687718</td>\n",
       "      <td>732.475598</td>\n",
       "      <td>16093.4</td>\n",
       "      <td>353592.016416</td>\n",
       "      <td>0.324301</td>\n",
       "      <td>0.077211</td>\n",
       "      <td>0.664333</td>\n",
       "      <td>0.363463</td>\n",
       "      <td>0.146172</td>\n",
       "      <td>0.042553</td>\n",
       "      <td>0.015245</td>\n",
       "      <td>0.000000</td>\n",
       "      <td>0</td>\n",
       "      <td>0.000000</td>\n",
       "      <td>0.0</td>\n",
       "    </tr>\n",
       "    <tr>\n",
       "      <th>2004-11-01 06:00:00</th>\n",
       "      <td>0.298153</td>\n",
       "      <td>67.513173</td>\n",
       "      <td>56.621311</td>\n",
       "      <td>-36.770309</td>\n",
       "      <td>1042.361020</td>\n",
       "      <td>16093.4</td>\n",
       "      <td>248471.996288</td>\n",
       "      <td>0.029315</td>\n",
       "      <td>0.161410</td>\n",
       "      <td>0.781679</td>\n",
       "      <td>0.348693</td>\n",
       "      <td>0.225356</td>\n",
       "      <td>0.042553</td>\n",
       "      <td>0.009250</td>\n",
       "      <td>0.168065</td>\n",
       "      <td>0</td>\n",
       "      <td>0.204404</td>\n",
       "      <td>0.0</td>\n",
       "    </tr>\n",
       "    <tr>\n",
       "      <th>2004-11-01 07:00:00</th>\n",
       "      <td>0.329992</td>\n",
       "      <td>43.711596</td>\n",
       "      <td>31.968638</td>\n",
       "      <td>-29.811237</td>\n",
       "      <td>838.730115</td>\n",
       "      <td>16093.4</td>\n",
       "      <td>308797.214744</td>\n",
       "      <td>0.032446</td>\n",
       "      <td>0.102769</td>\n",
       "      <td>0.740143</td>\n",
       "      <td>0.365591</td>\n",
       "      <td>0.173323</td>\n",
       "      <td>0.042553</td>\n",
       "      <td>0.012690</td>\n",
       "      <td>0.184581</td>\n",
       "      <td>0</td>\n",
       "      <td>0.331286</td>\n",
       "      <td>1.0</td>\n",
       "    </tr>\n",
       "    <tr>\n",
       "      <th>2004-11-01 08:00:00</th>\n",
       "      <td>0.307853</td>\n",
       "      <td>55.203975</td>\n",
       "      <td>40.373631</td>\n",
       "      <td>-37.649020</td>\n",
       "      <td>942.560154</td>\n",
       "      <td>16093.4</td>\n",
       "      <td>274780.895794</td>\n",
       "      <td>0.030269</td>\n",
       "      <td>0.131084</td>\n",
       "      <td>0.754304</td>\n",
       "      <td>0.346559</td>\n",
       "      <td>0.199855</td>\n",
       "      <td>0.042553</td>\n",
       "      <td>0.010750</td>\n",
       "      <td>0.174609</td>\n",
       "      <td>0</td>\n",
       "      <td>0.411070</td>\n",
       "      <td>1.0</td>\n",
       "    </tr>\n",
       "    <tr>\n",
       "      <th>2004-11-01 09:00:00</th>\n",
       "      <td>0.287078</td>\n",
       "      <td>46.293309</td>\n",
       "      <td>33.856783</td>\n",
       "      <td>-31.571961</td>\n",
       "      <td>863.143519</td>\n",
       "      <td>16093.4</td>\n",
       "      <td>300063.104080</td>\n",
       "      <td>0.028226</td>\n",
       "      <td>0.109130</td>\n",
       "      <td>0.743324</td>\n",
       "      <td>0.361316</td>\n",
       "      <td>0.179561</td>\n",
       "      <td>0.042553</td>\n",
       "      <td>0.012192</td>\n",
       "      <td>0.166599</td>\n",
       "      <td>0</td>\n",
       "      <td>0.476038</td>\n",
       "      <td>1.0</td>\n",
       "    </tr>\n",
       "  </tbody>\n",
       "</table>\n",
       "</div>"
      ],
      "text/plain": [
       "                            H        uSq      e_uSq      n_uSq           Z2  \\\n",
       "TimeStamp_1                                                                   \n",
       "2004-11-01 00:00:00  3.249133  19.225945  18.733185  -4.324897   556.247086   \n",
       "2004-11-01 01:00:00  3.249133  47.299731 -43.539632  18.481477   872.475497   \n",
       "2004-11-01 02:00:00  1.960359  43.096993 -23.472305 -36.144180   832.812792   \n",
       "2004-11-01 03:00:00  2.001249  28.241040 -25.162951 -12.821164   674.161969   \n",
       "2004-11-01 04:00:00  3.254957  35.278017 -19.213785 -29.586634   753.487381   \n",
       "2004-11-01 05:00:00  3.298333  33.337921 -13.026164 -30.687718   732.475598   \n",
       "2004-11-01 06:00:00  0.298153  67.513173  56.621311 -36.770309  1042.361020   \n",
       "2004-11-01 07:00:00  0.329992  43.711596  31.968638 -29.811237   838.730115   \n",
       "2004-11-01 08:00:00  0.307853  55.203975  40.373631 -37.649020   942.560154   \n",
       "2004-11-01 09:00:00  0.287078  46.293309  33.856783 -31.571961   863.143519   \n",
       "\n",
       "                          Z3             Z4  scaled_H  scaled_uSq  \\\n",
       "TimeStamp_1                                                         \n",
       "2004-11-01 00:00:00  16093.4  465615.964363  0.319463    0.042443   \n",
       "2004-11-01 01:00:00  16093.4  296853.635864  0.319463    0.111609   \n",
       "2004-11-01 02:00:00  16093.4  310991.288972  0.192748    0.101255   \n",
       "2004-11-01 03:00:00  16093.4  384177.000917  0.196768    0.064654   \n",
       "2004-11-01 04:00:00  16093.4  343731.733585  0.320036    0.081991   \n",
       "2004-11-01 05:00:00  16093.4  353592.016416  0.324301    0.077211   \n",
       "2004-11-01 06:00:00  16093.4  248471.996288  0.029315    0.161410   \n",
       "2004-11-01 07:00:00  16093.4  308797.214744  0.032446    0.102769   \n",
       "2004-11-01 08:00:00  16093.4  274780.895794  0.030269    0.131084   \n",
       "2004-11-01 09:00:00  16093.4  300063.104080  0.028226    0.109130   \n",
       "\n",
       "                     scaled_e_uSq  scaled_n_uSq  scaled_Z2  scaled_Z3  \\\n",
       "TimeStamp_1                                                             \n",
       "2004-11-01 00:00:00      0.717843      0.427481   0.101141   0.042553   \n",
       "2004-11-01 01:00:00      0.612923      0.482862   0.181946   0.042553   \n",
       "2004-11-01 02:00:00      0.646733      0.350213   0.171811   0.042553   \n",
       "2004-11-01 03:00:00      0.643885      0.406849   0.131272   0.042553   \n",
       "2004-11-01 04:00:00      0.653908      0.366137   0.151541   0.042553   \n",
       "2004-11-01 05:00:00      0.664333      0.363463   0.146172   0.042553   \n",
       "2004-11-01 06:00:00      0.781679      0.348693   0.225356   0.042553   \n",
       "2004-11-01 07:00:00      0.740143      0.365591   0.173323   0.042553   \n",
       "2004-11-01 08:00:00      0.754304      0.346559   0.199855   0.042553   \n",
       "2004-11-01 09:00:00      0.743324      0.361316   0.179561   0.042553   \n",
       "\n",
       "                     scaled_Z4   H_pred0  Spike  Spike_prob  Spike_pred  \n",
       "TimeStamp_1                                                              \n",
       "2004-11-01 00:00:00   0.021635  0.000000      0    0.000000         0.0  \n",
       "2004-11-01 01:00:00   0.012009  0.000000      0    0.000000         0.0  \n",
       "2004-11-01 02:00:00   0.012816  0.000000      0    0.000000         0.0  \n",
       "2004-11-01 03:00:00   0.016990  0.000000      0    0.000000         0.0  \n",
       "2004-11-01 04:00:00   0.014683  0.000000      0    0.000000         0.0  \n",
       "2004-11-01 05:00:00   0.015245  0.000000      0    0.000000         0.0  \n",
       "2004-11-01 06:00:00   0.009250  0.168065      0    0.204404         0.0  \n",
       "2004-11-01 07:00:00   0.012690  0.184581      0    0.331286         1.0  \n",
       "2004-11-01 08:00:00   0.010750  0.174609      0    0.411070         1.0  \n",
       "2004-11-01 09:00:00   0.012192  0.166599      0    0.476038         1.0  "
      ]
     },
     "execution_count": 9,
     "metadata": {},
     "output_type": "execute_result"
    }
   ],
   "source": [
    "# Create sequences for the full dataset\n",
    "X, _ = create_sequences(df1[features].values, time_step)\n",
    "\n",
    "# Add predicted spikes\n",
    "df1['Spike_prob'] = 0.0\n",
    "df1.loc[df1.index[time_step:], 'Spike_prob'] = model.predict(X, verbose=0).flatten()\n",
    "df1['Spike_pred'] = df1['Spike_prob'].apply(lambda x: 0.0 if x < threshold else 1.0)\n",
    "df1.to_csv('Data_2004_2013.csv')\n",
    "\n",
    "df1.head(10)"
   ]
  },
  {
   "cell_type": "code",
   "execution_count": null,
   "id": "ff482830-efa2-4ea5-afa4-442c5ace40a1",
   "metadata": {},
   "outputs": [],
   "source": []
  }
 ],
 "metadata": {
  "kernelspec": {
   "display_name": "tf-gpu",
   "language": "python",
   "name": "python3"
  },
  "language_info": {
   "codemirror_mode": {
    "name": "ipython",
    "version": 3
   },
   "file_extension": ".py",
   "mimetype": "text/x-python",
   "name": "python",
   "nbconvert_exporter": "python",
   "pygments_lexer": "ipython3",
   "version": "3.12.7"
  }
 },
 "nbformat": 4,
 "nbformat_minor": 5
}
