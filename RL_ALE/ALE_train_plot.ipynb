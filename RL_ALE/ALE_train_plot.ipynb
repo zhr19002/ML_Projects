{
 "cells": [
  {
   "cell_type": "code",
   "execution_count": null,
   "id": "b1495875-5955-444a-9966-083722ba1f56",
   "metadata": {},
   "outputs": [],
   "source": [
    "import os\n",
    "import numpy as np\n",
    "import matplotlib.pyplot as plt\n",
    "from tensorboard.backend.event_processing import event_accumulator\n",
    "\n",
    "alg = 'DQN'"
   ]
  },
  {
   "cell_type": "code",
   "execution_count": null,
   "id": "0c5f289a",
   "metadata": {},
   "outputs": [],
   "source": [
    "def extract_rewards(file_path):\n",
    "    ea = event_accumulator.EventAccumulator(file_path)\n",
    "    ea.Reload()\n",
    "    scalar_events = ea.Scalars('eval/mean_reward')\n",
    "\n",
    "    timesteps, rewards = [], []\n",
    "    for event in scalar_events:\n",
    "        timesteps.append(event.step)\n",
    "        rewards.append(event.value)\n",
    "\n",
    "    return np.array(timesteps), np.array(rewards)\n",
    "\n",
    "plt.figure(figsize=(10, 4))\n",
    "\n",
    "for root, dirs, files in os.walk('logs/' + alg + '/' + alg + '_0'):\n",
    "    for file in files:\n",
    "        if file.startswith('events.out.tfevents'):\n",
    "            file_path = os.path.join(root, file)\n",
    "            print(f\"Processing: {file_path}\")\n",
    "            timesteps, rewards = extract_rewards(file_path)\n",
    "            plt.plot(timesteps, rewards)\n",
    "\n",
    "plt.xlabel('Timestep')\n",
    "plt.ylabel('Reward')\n",
    "\n",
    "plt.tight_layout()\n",
    "plt.show()"
   ]
  },
  {
   "cell_type": "code",
   "execution_count": null,
   "id": "cc1b2321",
   "metadata": {},
   "outputs": [],
   "source": [
    "data = np.load('./logs/' + alg + '/evaluations.npz')\n",
    "\n",
    "plt.figure(figsize=(10, 4))\n",
    "plt.plot(data['timesteps'], np.mean(data['results'], axis=1))\n",
    "\n",
    "plt.xlabel('Timestep')\n",
    "plt.ylabel('Reward')\n",
    "\n",
    "plt.tight_layout()\n",
    "plt.show()"
   ]
  },
  {
   "cell_type": "code",
   "execution_count": null,
   "id": "e88aeb6e-a373-4e17-88c3-7d0f52ffd3e1",
   "metadata": {},
   "outputs": [],
   "source": []
  }
 ],
 "metadata": {
  "kernelspec": {
   "display_name": "pytorch-sb3",
   "language": "python",
   "name": "python3"
  },
  "language_info": {
   "codemirror_mode": {
    "name": "ipython",
    "version": 3
   },
   "file_extension": ".py",
   "mimetype": "text/x-python",
   "name": "python",
   "nbconvert_exporter": "python",
   "pygments_lexer": "ipython3",
   "version": "3.12.7"
  }
 },
 "nbformat": 4,
 "nbformat_minor": 5
}
